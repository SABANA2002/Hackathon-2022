{
 "cells": [
  {
   "cell_type": "markdown",
   "id": "94d6992d",
   "metadata": {},
   "source": [
    "<h2 style=\"color:green\"> IMPORT LIBRARIES </h2>"
   ]
  },
  {
   "cell_type": "code",
   "execution_count": 1,
   "id": "2f6572b1",
   "metadata": {},
   "outputs": [],
   "source": [
    "import pandas as pd\n",
    "import numpy as np\n",
    "import seaborn as sns\n",
    "from scipy import stats\n",
    "import matplotlib.pyplot as plt\n",
    "from scipy.stats import pearsonr\n",
    "from sklearn.model_selection import train_test_split\n",
    "from sklearn.preprocessing import MinMaxScaler\n",
    "from sklearn.linear_model import LinearRegression\n",
    "from sklearn.linear_model import LogisticRegression\n",
    "from sklearn.tree import DecisionTreeRegressor\n",
    "from sklearn.tree import DecisionTreeClassifier\n",
    "from sklearn.ensemble import RandomForestRegressor\n",
    "from sklearn.ensemble import RandomForestClassifier\n",
    "from sklearn.ensemble import GradientBoostingRegressor\n",
    "from sklearn.ensemble import GradientBoostingClassifier\n",
    "from sklearn.ensemble import AdaBoostRegressor\n",
    "from sklearn.ensemble import AdaBoostClassifier\n",
    "from sklearn.metrics import mean_squared_error"
   ]
  },
  {
   "cell_type": "markdown",
   "id": "f74c1e25",
   "metadata": {},
   "source": [
    "<h2 style=\"color:green\"> IMPORT DATASET </h2>"
   ]
  },
  {
   "cell_type": "code",
   "execution_count": 2,
   "id": "d02aa81f",
   "metadata": {},
   "outputs": [],
   "source": [
    "bigTr=pd.read_csv(\"C:/Users/HP/Downloads/HackTrain.csv\")\n",
    "bigTe=pd.read_csv(\"C:/Users/HP/Downloads/HackTest.csv\")"
   ]
  },
  {
   "cell_type": "markdown",
   "id": "1a35b9fe",
   "metadata": {},
   "source": [
    "<h2 style=\"color:green\"> CHECK TRAINCOLUMNS </h2>"
   ]
  },
  {
   "cell_type": "code",
   "execution_count": 3,
   "id": "a29264b1",
   "metadata": {},
   "outputs": [
    {
     "data": {
      "text/plain": [
       "Index(['Name', 'Platform', 'Year_of_Release', 'Genre', 'Publisher', 'NA_Sales',\n",
       "       'EU_Sales', 'JP_Sales', 'Critic_Score', 'Critic_Count', 'User_Score',\n",
       "       'User_Count', 'Developer', 'Rating', 'Global_Sales'],\n",
       "      dtype='object')"
      ]
     },
     "execution_count": 3,
     "metadata": {},
     "output_type": "execute_result"
    }
   ],
   "source": [
    "bigTr.columns"
   ]
  },
  {
   "cell_type": "markdown",
   "id": "dee3c77e",
   "metadata": {},
   "source": [
    "<h2 style=\"color:green\"> CHECK TAIL </h2>"
   ]
  },
  {
   "cell_type": "code",
   "execution_count": 4,
   "id": "21594d24",
   "metadata": {},
   "outputs": [
    {
     "data": {
      "text/html": [
       "<div>\n",
       "<style scoped>\n",
       "    .dataframe tbody tr th:only-of-type {\n",
       "        vertical-align: middle;\n",
       "    }\n",
       "\n",
       "    .dataframe tbody tr th {\n",
       "        vertical-align: top;\n",
       "    }\n",
       "\n",
       "    .dataframe thead th {\n",
       "        text-align: right;\n",
       "    }\n",
       "</style>\n",
       "<table border=\"1\" class=\"dataframe\">\n",
       "  <thead>\n",
       "    <tr style=\"text-align: right;\">\n",
       "      <th></th>\n",
       "      <th>Name</th>\n",
       "      <th>Platform</th>\n",
       "      <th>Year_of_Release</th>\n",
       "      <th>Genre</th>\n",
       "      <th>Publisher</th>\n",
       "      <th>NA_Sales</th>\n",
       "      <th>EU_Sales</th>\n",
       "      <th>JP_Sales</th>\n",
       "      <th>Critic_Score</th>\n",
       "      <th>Critic_Count</th>\n",
       "      <th>User_Score</th>\n",
       "      <th>User_Count</th>\n",
       "      <th>Developer</th>\n",
       "      <th>Rating</th>\n",
       "      <th>Global_Sales</th>\n",
       "    </tr>\n",
       "  </thead>\n",
       "  <tbody>\n",
       "    <tr>\n",
       "      <th>14571</th>\n",
       "      <td>Samurai Warriors: Sanada Maru</td>\n",
       "      <td>PS3</td>\n",
       "      <td>2016.0</td>\n",
       "      <td>Action</td>\n",
       "      <td>Tecmo Koei</td>\n",
       "      <td>0.00</td>\n",
       "      <td>0.00</td>\n",
       "      <td>0.01</td>\n",
       "      <td>NaN</td>\n",
       "      <td>NaN</td>\n",
       "      <td>NaN</td>\n",
       "      <td>NaN</td>\n",
       "      <td>NaN</td>\n",
       "      <td>NaN</td>\n",
       "      <td>0.01</td>\n",
       "    </tr>\n",
       "    <tr>\n",
       "      <th>14572</th>\n",
       "      <td>LMA Manager 2007</td>\n",
       "      <td>X360</td>\n",
       "      <td>2006.0</td>\n",
       "      <td>Sports</td>\n",
       "      <td>Codemasters</td>\n",
       "      <td>0.00</td>\n",
       "      <td>0.01</td>\n",
       "      <td>0.00</td>\n",
       "      <td>NaN</td>\n",
       "      <td>NaN</td>\n",
       "      <td>NaN</td>\n",
       "      <td>NaN</td>\n",
       "      <td>NaN</td>\n",
       "      <td>NaN</td>\n",
       "      <td>0.01</td>\n",
       "    </tr>\n",
       "    <tr>\n",
       "      <th>14573</th>\n",
       "      <td>Haitaka no Psychedelica</td>\n",
       "      <td>PSV</td>\n",
       "      <td>2016.0</td>\n",
       "      <td>Adventure</td>\n",
       "      <td>Idea Factory</td>\n",
       "      <td>0.00</td>\n",
       "      <td>0.00</td>\n",
       "      <td>0.01</td>\n",
       "      <td>NaN</td>\n",
       "      <td>NaN</td>\n",
       "      <td>NaN</td>\n",
       "      <td>NaN</td>\n",
       "      <td>NaN</td>\n",
       "      <td>NaN</td>\n",
       "      <td>0.01</td>\n",
       "    </tr>\n",
       "    <tr>\n",
       "      <th>14574</th>\n",
       "      <td>Spirits &amp; Spells</td>\n",
       "      <td>GBA</td>\n",
       "      <td>2003.0</td>\n",
       "      <td>Platform</td>\n",
       "      <td>Wanadoo</td>\n",
       "      <td>0.01</td>\n",
       "      <td>0.00</td>\n",
       "      <td>0.00</td>\n",
       "      <td>NaN</td>\n",
       "      <td>NaN</td>\n",
       "      <td>NaN</td>\n",
       "      <td>NaN</td>\n",
       "      <td>NaN</td>\n",
       "      <td>NaN</td>\n",
       "      <td>0.01</td>\n",
       "    </tr>\n",
       "    <tr>\n",
       "      <th>14575</th>\n",
       "      <td>Winning Post 8 2016</td>\n",
       "      <td>PSV</td>\n",
       "      <td>2016.0</td>\n",
       "      <td>Simulation</td>\n",
       "      <td>Tecmo Koei</td>\n",
       "      <td>0.00</td>\n",
       "      <td>0.00</td>\n",
       "      <td>0.01</td>\n",
       "      <td>NaN</td>\n",
       "      <td>NaN</td>\n",
       "      <td>NaN</td>\n",
       "      <td>NaN</td>\n",
       "      <td>NaN</td>\n",
       "      <td>NaN</td>\n",
       "      <td>0.01</td>\n",
       "    </tr>\n",
       "  </tbody>\n",
       "</table>\n",
       "</div>"
      ],
      "text/plain": [
       "                                Name Platform  Year_of_Release       Genre  \\\n",
       "14571  Samurai Warriors: Sanada Maru      PS3           2016.0      Action   \n",
       "14572               LMA Manager 2007     X360           2006.0      Sports   \n",
       "14573        Haitaka no Psychedelica      PSV           2016.0   Adventure   \n",
       "14574               Spirits & Spells      GBA           2003.0    Platform   \n",
       "14575            Winning Post 8 2016      PSV           2016.0  Simulation   \n",
       "\n",
       "          Publisher  NA_Sales  EU_Sales  JP_Sales  Critic_Score  Critic_Count  \\\n",
       "14571    Tecmo Koei      0.00      0.00      0.01           NaN           NaN   \n",
       "14572   Codemasters      0.00      0.01      0.00           NaN           NaN   \n",
       "14573  Idea Factory      0.00      0.00      0.01           NaN           NaN   \n",
       "14574       Wanadoo      0.01      0.00      0.00           NaN           NaN   \n",
       "14575    Tecmo Koei      0.00      0.00      0.01           NaN           NaN   \n",
       "\n",
       "      User_Score  User_Count Developer Rating  Global_Sales  \n",
       "14571        NaN         NaN       NaN    NaN          0.01  \n",
       "14572        NaN         NaN       NaN    NaN          0.01  \n",
       "14573        NaN         NaN       NaN    NaN          0.01  \n",
       "14574        NaN         NaN       NaN    NaN          0.01  \n",
       "14575        NaN         NaN       NaN    NaN          0.01  "
      ]
     },
     "execution_count": 4,
     "metadata": {},
     "output_type": "execute_result"
    }
   ],
   "source": [
    "bigTr.tail()"
   ]
  },
  {
   "cell_type": "markdown",
   "id": "ba244d57",
   "metadata": {},
   "source": [
    "<h2 style=\"color:green\"> CHECK TESTCOLUMNS </h2>"
   ]
  },
  {
   "cell_type": "code",
   "execution_count": 5,
   "id": "9beeee56",
   "metadata": {},
   "outputs": [
    {
     "data": {
      "text/plain": [
       "Index(['Name', 'Platform', 'Year_of_Release', 'Genre', 'Publisher', 'NA_Sales',\n",
       "       'EU_Sales', 'JP_Sales', 'Critic_Score', 'Critic_Count', 'User_Score',\n",
       "       'User_Count', 'Developer', 'Rating'],\n",
       "      dtype='object')"
      ]
     },
     "execution_count": 5,
     "metadata": {},
     "output_type": "execute_result"
    }
   ],
   "source": [
    "bigTe.columns"
   ]
  },
  {
   "cell_type": "markdown",
   "id": "33df437c",
   "metadata": {},
   "source": [
    "<h2 style=\"color:green\"> SEPARATE Y(dependent variable) </h2>"
   ]
  },
  {
   "cell_type": "code",
   "execution_count": 6,
   "id": "3d7d419c",
   "metadata": {},
   "outputs": [],
   "source": [
    "y=bigTr.Global_Sales\n",
    "train=bigTr.drop(\"Global_Sales\",axis=1)"
   ]
  },
  {
   "cell_type": "markdown",
   "id": "d03cc8c4",
   "metadata": {},
   "source": [
    "<h2 style=\"color:green\"> APPEND TRAIN AND TEST DATASET </h2>"
   ]
  },
  {
   "cell_type": "code",
   "execution_count": 7,
   "id": "36e1230c",
   "metadata": {},
   "outputs": [],
   "source": [
    "Data=train.append(bigTe,ignore_index=True,sort=False)"
   ]
  },
  {
   "cell_type": "code",
   "execution_count": 8,
   "id": "956491ff",
   "metadata": {},
   "outputs": [
    {
     "data": {
      "text/html": [
       "<div>\n",
       "<style scoped>\n",
       "    .dataframe tbody tr th:only-of-type {\n",
       "        vertical-align: middle;\n",
       "    }\n",
       "\n",
       "    .dataframe tbody tr th {\n",
       "        vertical-align: top;\n",
       "    }\n",
       "\n",
       "    .dataframe thead th {\n",
       "        text-align: right;\n",
       "    }\n",
       "</style>\n",
       "<table border=\"1\" class=\"dataframe\">\n",
       "  <thead>\n",
       "    <tr style=\"text-align: right;\">\n",
       "      <th></th>\n",
       "      <th>Name</th>\n",
       "      <th>Platform</th>\n",
       "      <th>Year_of_Release</th>\n",
       "      <th>Genre</th>\n",
       "      <th>Publisher</th>\n",
       "      <th>NA_Sales</th>\n",
       "      <th>EU_Sales</th>\n",
       "      <th>JP_Sales</th>\n",
       "      <th>Critic_Score</th>\n",
       "      <th>Critic_Count</th>\n",
       "      <th>User_Score</th>\n",
       "      <th>User_Count</th>\n",
       "      <th>Developer</th>\n",
       "      <th>Rating</th>\n",
       "    </tr>\n",
       "  </thead>\n",
       "  <tbody>\n",
       "    <tr>\n",
       "      <th>0</th>\n",
       "      <td>Wii Sports</td>\n",
       "      <td>Wii</td>\n",
       "      <td>2006.0</td>\n",
       "      <td>Sports</td>\n",
       "      <td>Nintendo</td>\n",
       "      <td>41.36</td>\n",
       "      <td>28.96</td>\n",
       "      <td>3.77</td>\n",
       "      <td>76.0</td>\n",
       "      <td>51.0</td>\n",
       "      <td>8</td>\n",
       "      <td>322.0</td>\n",
       "      <td>Nintendo</td>\n",
       "      <td>E</td>\n",
       "    </tr>\n",
       "    <tr>\n",
       "      <th>1</th>\n",
       "      <td>Super Mario Bros.</td>\n",
       "      <td>NES</td>\n",
       "      <td>1985.0</td>\n",
       "      <td>Platform</td>\n",
       "      <td>Nintendo</td>\n",
       "      <td>29.08</td>\n",
       "      <td>3.58</td>\n",
       "      <td>6.81</td>\n",
       "      <td>NaN</td>\n",
       "      <td>NaN</td>\n",
       "      <td>NaN</td>\n",
       "      <td>NaN</td>\n",
       "      <td>NaN</td>\n",
       "      <td>NaN</td>\n",
       "    </tr>\n",
       "    <tr>\n",
       "      <th>2</th>\n",
       "      <td>Mario Kart Wii</td>\n",
       "      <td>Wii</td>\n",
       "      <td>2008.0</td>\n",
       "      <td>Racing</td>\n",
       "      <td>Nintendo</td>\n",
       "      <td>15.68</td>\n",
       "      <td>12.76</td>\n",
       "      <td>3.79</td>\n",
       "      <td>82.0</td>\n",
       "      <td>73.0</td>\n",
       "      <td>8.3</td>\n",
       "      <td>709.0</td>\n",
       "      <td>Nintendo</td>\n",
       "      <td>E</td>\n",
       "    </tr>\n",
       "    <tr>\n",
       "      <th>3</th>\n",
       "      <td>Wii Sports Resort</td>\n",
       "      <td>Wii</td>\n",
       "      <td>2009.0</td>\n",
       "      <td>Sports</td>\n",
       "      <td>Nintendo</td>\n",
       "      <td>15.61</td>\n",
       "      <td>10.93</td>\n",
       "      <td>3.28</td>\n",
       "      <td>80.0</td>\n",
       "      <td>73.0</td>\n",
       "      <td>8</td>\n",
       "      <td>192.0</td>\n",
       "      <td>Nintendo</td>\n",
       "      <td>E</td>\n",
       "    </tr>\n",
       "    <tr>\n",
       "      <th>4</th>\n",
       "      <td>Pokemon Red/Pokemon Blue</td>\n",
       "      <td>GB</td>\n",
       "      <td>1996.0</td>\n",
       "      <td>Role-Playing</td>\n",
       "      <td>Nintendo</td>\n",
       "      <td>11.27</td>\n",
       "      <td>8.89</td>\n",
       "      <td>10.22</td>\n",
       "      <td>NaN</td>\n",
       "      <td>NaN</td>\n",
       "      <td>NaN</td>\n",
       "      <td>NaN</td>\n",
       "      <td>NaN</td>\n",
       "      <td>NaN</td>\n",
       "    </tr>\n",
       "  </tbody>\n",
       "</table>\n",
       "</div>"
      ],
      "text/plain": [
       "                       Name Platform  Year_of_Release         Genre Publisher  \\\n",
       "0                Wii Sports      Wii           2006.0        Sports  Nintendo   \n",
       "1         Super Mario Bros.      NES           1985.0      Platform  Nintendo   \n",
       "2            Mario Kart Wii      Wii           2008.0        Racing  Nintendo   \n",
       "3         Wii Sports Resort      Wii           2009.0        Sports  Nintendo   \n",
       "4  Pokemon Red/Pokemon Blue       GB           1996.0  Role-Playing  Nintendo   \n",
       "\n",
       "   NA_Sales  EU_Sales  JP_Sales  Critic_Score  Critic_Count User_Score  \\\n",
       "0     41.36     28.96      3.77          76.0          51.0          8   \n",
       "1     29.08      3.58      6.81           NaN           NaN        NaN   \n",
       "2     15.68     12.76      3.79          82.0          73.0        8.3   \n",
       "3     15.61     10.93      3.28          80.0          73.0          8   \n",
       "4     11.27      8.89     10.22           NaN           NaN        NaN   \n",
       "\n",
       "   User_Count Developer Rating  \n",
       "0       322.0  Nintendo      E  \n",
       "1         NaN       NaN    NaN  \n",
       "2       709.0  Nintendo      E  \n",
       "3       192.0  Nintendo      E  \n",
       "4         NaN       NaN    NaN  "
      ]
     },
     "execution_count": 8,
     "metadata": {},
     "output_type": "execute_result"
    }
   ],
   "source": [
    "Data.head()"
   ]
  },
  {
   "cell_type": "code",
   "execution_count": 9,
   "id": "b7b5549d",
   "metadata": {},
   "outputs": [
    {
     "name": "stdout",
     "output_type": "stream",
     "text": [
      "<class 'pandas.core.frame.DataFrame'>\n",
      "RangeIndex: 16719 entries, 0 to 16718\n",
      "Data columns (total 14 columns):\n",
      " #   Column           Non-Null Count  Dtype  \n",
      "---  ------           --------------  -----  \n",
      " 0   Name             16717 non-null  object \n",
      " 1   Platform         16719 non-null  object \n",
      " 2   Year_of_Release  16450 non-null  float64\n",
      " 3   Genre            16717 non-null  object \n",
      " 4   Publisher        16665 non-null  object \n",
      " 5   NA_Sales         16719 non-null  float64\n",
      " 6   EU_Sales         16719 non-null  float64\n",
      " 7   JP_Sales         16719 non-null  float64\n",
      " 8   Critic_Score     8137 non-null   float64\n",
      " 9   Critic_Count     8137 non-null   float64\n",
      " 10  User_Score       10015 non-null  object \n",
      " 11  User_Count       7590 non-null   float64\n",
      " 12  Developer        10096 non-null  object \n",
      " 13  Rating           9950 non-null   object \n",
      "dtypes: float64(7), object(7)\n",
      "memory usage: 1.8+ MB\n"
     ]
    }
   ],
   "source": [
    "Data.info()"
   ]
  },
  {
   "cell_type": "markdown",
   "id": "8a0d45fa",
   "metadata": {},
   "source": [
    "<h2 style=\"color:green\"> CHECK SHAPE </h2>"
   ]
  },
  {
   "cell_type": "code",
   "execution_count": 10,
   "id": "16d8951f",
   "metadata": {},
   "outputs": [
    {
     "data": {
      "text/plain": [
       "(16719, 14)"
      ]
     },
     "execution_count": 10,
     "metadata": {},
     "output_type": "execute_result"
    }
   ],
   "source": [
    "Data.shape"
   ]
  },
  {
   "cell_type": "markdown",
   "id": "cd7b6622",
   "metadata": {},
   "source": [
    "<h2 style=\"color:green\"> EXPLORATORY DATA ANALYSIS </h2>"
   ]
  },
  {
   "cell_type": "code",
   "execution_count": 11,
   "id": "1ac38588",
   "metadata": {},
   "outputs": [
    {
     "data": {
      "text/plain": [
       "count     16719\n",
       "unique       31\n",
       "top         PS2\n",
       "freq       2161\n",
       "Name: Platform, dtype: object"
      ]
     },
     "execution_count": 11,
     "metadata": {},
     "output_type": "execute_result"
    }
   ],
   "source": [
    "Data.Platform.describe()"
   ]
  },
  {
   "cell_type": "code",
   "execution_count": 12,
   "id": "2d0ea73b",
   "metadata": {},
   "outputs": [
    {
     "data": {
      "text/plain": [
       "array(['Wii', 'NES', 'GB', 'DS', 'X360', 'PS3', 'PS2', 'SNES', 'GBA',\n",
       "       'PS4', '3DS', 'N64', 'PS', 'XB', 'PC', '2600', 'PSP', 'XOne',\n",
       "       'WiiU', 'GC', 'GEN', 'DC', 'PSV', 'SAT', 'SCD', 'WS', 'NG', 'TG16',\n",
       "       '3DO', 'GG', 'PCFX'], dtype=object)"
      ]
     },
     "execution_count": 12,
     "metadata": {},
     "output_type": "execute_result"
    }
   ],
   "source": [
    "Data.Platform.unique()"
   ]
  },
  {
   "cell_type": "code",
   "execution_count": 13,
   "id": "3815811b",
   "metadata": {},
   "outputs": [
    {
     "data": {
      "text/plain": [
       "0"
      ]
     },
     "execution_count": 13,
     "metadata": {},
     "output_type": "execute_result"
    }
   ],
   "source": [
    "Data.Platform.isnull().sum()"
   ]
  },
  {
   "cell_type": "code",
   "execution_count": 14,
   "id": "05512e95",
   "metadata": {},
   "outputs": [
    {
     "name": "stderr",
     "output_type": "stream",
     "text": [
      "C:\\Users\\HP\\anaconda3\\lib\\site-packages\\seaborn\\_decorators.py:36: FutureWarning: Pass the following variable as a keyword arg: x. From version 0.12, the only valid positional argument will be `data`, and passing other arguments without an explicit keyword will result in an error or misinterpretation.\n",
      "  warnings.warn(\n"
     ]
    },
    {
     "data": {
      "text/plain": [
       "<AxesSubplot:xlabel='Platform', ylabel='count'>"
      ]
     },
     "execution_count": 14,
     "metadata": {},
     "output_type": "execute_result"
    },
    {
     "data": {
      "image/png": "[encoded data removed]",
      "text/plain": [
       "<Figure size 1008x288 with 1 Axes>"
      ]
     },
     "metadata": {
      "needs_background": "light"
     },
     "output_type": "display_data"
    }
   ],
   "source": [
    "plt.figure(figsize=(14,4))\n",
    "sns.countplot(Data.Platform)"
   ]
  },
  {
   "cell_type": "code",
   "execution_count": 15,
   "id": "f1fcc303",
   "metadata": {},
   "outputs": [
    {
     "data": {
      "text/plain": [
       "PS2     2161\n",
       "DS      2152\n",
       "PS3     1331\n",
       "Wii     1320\n",
       "X360    1262\n",
       "PSP     1209\n",
       "PS      1197\n",
       "PC       974\n",
       "XB       824\n",
       "GBA      822\n",
       "GC       556\n",
       "3DS      520\n",
       "PSV      432\n",
       "PS4      393\n",
       "N64      319\n",
       "XOne     247\n",
       "SNES     239\n",
       "SAT      173\n",
       "WiiU     147\n",
       "2600     133\n",
       "NES       98\n",
       "GB        98\n",
       "DC        52\n",
       "GEN       29\n",
       "NG        12\n",
       "SCD        6\n",
       "WS         6\n",
       "3DO        3\n",
       "TG16       2\n",
       "GG         1\n",
       "PCFX       1\n",
       "Name: Platform, dtype: int64"
      ]
     },
     "execution_count": 15,
     "metadata": {},
     "output_type": "execute_result"
    }
   ],
   "source": [
    "Data.Platform.value_counts()"
   ]
  },
  {
   "cell_type": "code",
   "execution_count": 16,
   "id": "50c7a84b",
   "metadata": {},
   "outputs": [
    {
     "data": {
      "text/plain": [
       "count    16450.000000\n",
       "mean      2006.487356\n",
       "std          5.878995\n",
       "min       1980.000000\n",
       "25%       2003.000000\n",
       "50%       2007.000000\n",
       "75%       2010.000000\n",
       "max       2020.000000\n",
       "Name: Year_of_Release, dtype: float64"
      ]
     },
     "execution_count": 16,
     "metadata": {},
     "output_type": "execute_result"
    }
   ],
   "source": [
    "Data.Year_of_Release.describe()"
   ]
  },
  {
   "cell_type": "code",
   "execution_count": 17,
   "id": "b7ad5b93",
   "metadata": {},
   "outputs": [
    {
     "data": {
      "text/plain": [
       "array([2006., 1985., 2008., 2009., 1996., 1989., 1984., 2005., 1999.,\n",
       "       2007., 2010., 2013., 2004., 1990., 1988., 2002., 2001., 2011.,\n",
       "       1998., 2015., 2012., 2014., 1992., 1997., 1993., 1994., 1982.,\n",
       "       2016., 2003., 1986., 2000.,   nan, 1995., 1991., 1981., 1987.,\n",
       "       1980., 1983., 2020., 2017.])"
      ]
     },
     "execution_count": 17,
     "metadata": {},
     "output_type": "execute_result"
    }
   ],
   "source": [
    "Data.Year_of_Release.unique()"
   ]
  },
  {
   "cell_type": "code",
   "execution_count": 18,
   "id": "214e9728",
   "metadata": {},
   "outputs": [
    {
     "data": {
      "text/plain": [
       "269"
      ]
     },
     "execution_count": 18,
     "metadata": {},
     "output_type": "execute_result"
    }
   ],
   "source": [
    "Data.Year_of_Release.isnull().sum()"
   ]
  },
  {
   "cell_type": "code",
   "execution_count": 19,
   "id": "f378b7f3",
   "metadata": {},
   "outputs": [
    {
     "data": {
      "text/plain": [
       "0    2008.0\n",
       "dtype: float64"
      ]
     },
     "execution_count": 19,
     "metadata": {},
     "output_type": "execute_result"
    }
   ],
   "source": [
    "Data.Year_of_Release.mode()"
   ]
  },
  {
   "cell_type": "code",
   "execution_count": 20,
   "id": "ce1e20fd",
   "metadata": {},
   "outputs": [],
   "source": [
    "Data.Year_of_Release.fillna(\"2008.0\",inplace=True)"
   ]
  },
  {
   "cell_type": "code",
   "execution_count": 21,
   "id": "1f1bfee2",
   "metadata": {},
   "outputs": [
    {
     "data": {
      "text/plain": [
       "0"
      ]
     },
     "execution_count": 21,
     "metadata": {},
     "output_type": "execute_result"
    }
   ],
   "source": [
    "Data.Year_of_Release.isnull().sum()"
   ]
  },
  {
   "cell_type": "code",
   "execution_count": 22,
   "id": "dd2fd017",
   "metadata": {},
   "outputs": [
    {
     "data": {
      "text/plain": [
       "2008.0    1427\n",
       "2009.0    1426\n",
       "2010.0    1255\n",
       "2007.0    1197\n",
       "2011.0    1136\n",
       "2006.0    1006\n",
       "2005.0     939\n",
       "2002.0     829\n",
       "2003.0     775\n",
       "2004.0     762\n",
       "2012.0     653\n",
       "2015.0     606\n",
       "2014.0     581\n",
       "2013.0     544\n",
       "2016.0     502\n",
       "2001.0     482\n",
       "1998.0     379\n",
       "2000.0     350\n",
       "1999.0     338\n",
       "1997.0     289\n",
       "2008.0     269\n",
       "1996.0     263\n",
       "1995.0     219\n",
       "1994.0     121\n",
       "1993.0      62\n",
       "1981.0      46\n",
       "1992.0      43\n",
       "1991.0      41\n",
       "1982.0      36\n",
       "1986.0      21\n",
       "1989.0      17\n",
       "1983.0      17\n",
       "1990.0      16\n",
       "1987.0      16\n",
       "1988.0      15\n",
       "1985.0      14\n",
       "1984.0      14\n",
       "1980.0       9\n",
       "2017.0       3\n",
       "2020.0       1\n",
       "Name: Year_of_Release, dtype: int64"
      ]
     },
     "execution_count": 22,
     "metadata": {},
     "output_type": "execute_result"
    }
   ],
   "source": [
    "Data.Year_of_Release.value_counts()"
   ]
  },
  {
   "cell_type": "code",
   "execution_count": 23,
   "id": "5fda262c",
   "metadata": {},
   "outputs": [
    {
     "name": "stderr",
     "output_type": "stream",
     "text": [
      "C:\\Users\\HP\\anaconda3\\lib\\site-packages\\seaborn\\_decorators.py:36: FutureWarning: Pass the following variable as a keyword arg: x. From version 0.12, the only valid positional argument will be `data`, and passing other arguments without an explicit keyword will result in an error or misinterpretation.\n",
      "  warnings.warn(\n"
     ]
    },
    {
     "data": {
      "text/plain": [
       "<AxesSubplot:xlabel='Year_of_Release', ylabel='count'>"
      ]
     },
     "execution_count": 23,
     "metadata": {},
     "output_type": "execute_result"
    },
    {
     "data": {
      "image/png": "[encoded data removed]",
      "text/plain": [
       "<Figure size 1440x360 with 1 Axes>"
      ]
     },
     "metadata": {
      "needs_background": "light"
     },
     "output_type": "display_data"
    }
   ],
   "source": [
    "plt.figure(figsize=(20,5))\n",
    "sns.countplot(Data.Year_of_Release)"
   ]
  },
  {
   "cell_type": "code",
   "execution_count": 24,
   "id": "4d925c15",
   "metadata": {},
   "outputs": [
    {
     "data": {
      "text/plain": [
       "count               16665\n",
       "unique                580\n",
       "top       Electronic Arts\n",
       "freq                 1356\n",
       "Name: Publisher, dtype: object"
      ]
     },
     "execution_count": 24,
     "metadata": {},
     "output_type": "execute_result"
    }
   ],
   "source": [
    "Data.Publisher.describe()"
   ]
  },
  {
   "cell_type": "code",
   "execution_count": 25,
   "id": "2fcca77c",
   "metadata": {
    "scrolled": true
   },
   "outputs": [
    {
     "data": {
      "text/plain": [
       "array(['Nintendo', 'Microsoft Game Studios', 'Take-Two Interactive',\n",
       "       'Sony Computer Entertainment', 'Activision', 'Ubisoft',\n",
       "       'Bethesda Softworks', 'Electronic Arts', 'Sega', 'SquareSoft',\n",
       "       'Atari', '505 Games', 'Capcom', 'GT Interactive',\n",
       "       'Konami Digital Entertainment', 'Square Enix',\n",
       "       'Sony Computer Entertainment Europe', 'Virgin Interactive',\n",
       "       'LucasArts', 'Warner Bros. Interactive Entertainment',\n",
       "       'Universal Interactive', 'Eidos Interactive', 'RedOctane',\n",
       "       'Vivendi Games', 'Enix Corporation', 'Namco Bandai Games',\n",
       "       'Palcom', 'Hasbro Interactive', 'THQ', 'Fox Interactive',\n",
       "       'Acclaim Entertainment', 'MTV Games', 'Disney Interactive Studios',\n",
       "       nan, 'Codemasters', 'Majesco Entertainment', 'Red Orb', 'Level 5',\n",
       "       'Arena Entertainment', 'Midway Games', 'JVC', 'Deep Silver',\n",
       "       'NCSoft', '989 Studios', 'UEP Systems', 'Parker Bros.', 'Maxis',\n",
       "       'Imagic', 'Tecmo Koei', 'ASCII Entertainment', 'Valve Software',\n",
       "       'Mindscape', 'Infogrames', 'Unknown', 'Square', 'Valve',\n",
       "       'Banpresto', 'Hello Games', 'D3Publisher', 'Activision Value',\n",
       "       'Oxygen Interactive', 'Red Storm Entertainment', 'Video System',\n",
       "       'Global Star', 'Gotham Games', 'Westwood Studios', 'GungHo',\n",
       "       'Crave Entertainment', 'Hudson Soft', 'Coleco',\n",
       "       'Rising Star Games', 'TDK Mediactive', 'ASC Games', 'Accolade',\n",
       "       'Zoo Games', 'Sony Online Entertainment', '3DO', 'Natsume', 'RTL',\n",
       "       'Alchemist', 'Black Label Games', 'SouthPeak Games',\n",
       "       'Focus Home Interactive', 'Ocean', 'Zoo Digital Publishing',\n",
       "       'Psygnosis', 'City Interactive', 'Empire Interactive', 'Success',\n",
       "       'Compile', 'Russel', 'Atlus', 'Mastertronic',\n",
       "       'Slightly Mad Studios', 'Taito', 'Agetec', 'Microprose', 'Play It',\n",
       "       'GSP', 'Tomy Corporation', 'Sammy Corporation', 'Koch Media',\n",
       "       'Game Factory', 'Titus', 'Marvelous Entertainment', 'Genki',\n",
       "       'Mojang', 'CTO SpA', 'TalonSoft', 'Crystal Dynamics', 'mixi, Inc',\n",
       "       'Pinnacle', 'SCi', 'Quelle', 'Rage Software', 'Ubisoft Annecy',\n",
       "       'Interplay', 'Scholastic Inc.', 'Mystique', 'ChunSoft',\n",
       "       'Square EA', '20th Century Fox Video Games',\n",
       "       'Hudson Entertainment', 'Men-A-Vision', 'Nobilis',\n",
       "       'Avanquest Software', 'Big Ben Interactive', 'Nordic Games',\n",
       "       'Touchstone', 'Spike', 'Nippon Ichi Software',\n",
       "       'Sony Computer Entertainment America', 'Jester Interactive',\n",
       "       'LEGO Media', 'Quest', 'Illusion Softworks', 'Tigervision',\n",
       "       'Rocket Company', 'Metro 3D', 'Mattel Interactive', 'IE Institute',\n",
       "       'Funbox Media', 'Rondomedia', 'Universal Gamex', 'Ghostlight',\n",
       "       'Wizard Video Games', 'BMG Interactive Entertainment', 'PQube',\n",
       "       'Trion Worlds', 'Xseed Games', 'Laguna', 'Takara',\n",
       "       'Ignition Entertainment', 'Kadokawa Shoten', 'Enterbrain',\n",
       "       'Imagineer', 'CPG Products', 'System 3 Arcade Software',\n",
       "       'Aruze Corp', 'Destineer', 'Gamebridge',\n",
       "       'Midas Interactive Entertainment', 'Jaleco', 'Answer Software',\n",
       "       'Pack In Soft', 'XS Games', 'Rebellion', 'Ultravision',\n",
       "       'Harmonix Music Systems', 'Activision Blizzard', 'Xplosiv',\n",
       "       'Wanadoo', 'Telltale Games', 'NovaLogic', 'Epoch',\n",
       "       'BAM! Entertainment', 'GameMill Entertainment',\n",
       "       'Knowledge Adventure', 'Tetris Online', 'Mastiff', 'ESP', 'TYO',\n",
       "       'Telegames', 'Mud Duck Productions', 'Screenlife', 'Pioneer LDC',\n",
       "       'Magical Company', 'Kemco', 'Mentor Interactive',\n",
       "       'Human Entertainment', 'Data Age', 'Electronic Arts Victor',\n",
       "       'Jack of All Games', 'Avanquest', 'Black Bean Games', '989 Sports',\n",
       "       'Takara Tomy', 'Media Rings', 'Elf', 'Starfish', 'Zushi Games',\n",
       "       'Jorudan', 'Destination Software, Inc', 'New',\n",
       "       'Brash Entertainment', 'Kalypso Media', 'ITT Family Games',\n",
       "       'Ackkstudios', 'PopCap Games', 'Starpath Corp.', 'BPS',\n",
       "       'Gathering of Developers', 'NewKidCo', 'Marvelous Interactive',\n",
       "       'Storm City Games', 'CokeM Interactive', 'P2 Games',\n",
       "       'CBS Electronics', 'Home Entertainment Suppliers', 'Magix',\n",
       "       'Arc System Works', 'Angel Studios', 'Wargaming.net', 'Playmates',\n",
       "       'SNK Playmore', 'Hamster Corporation', 'From Software',\n",
       "       'Nippon Columbia', 'Nichibutsu', 'Conspiracy Entertainment',\n",
       "       'Hect', 'Mumbo Jumbo', 'DTP Entertainment',\n",
       "       'Pacific Century Cyber Works', 'Indie Games', 'Liquid Games',\n",
       "       'NEC', 'Axela', 'ArtDink', 'Sunsoft', 'Little Orbit', 'FuRyu',\n",
       "       'Gust', 'SNK', 'NEC Interchannel', 'Nihon Falcom Corporation',\n",
       "       'Xing Entertainment', 'ValuSoft', 'Victor Interactive',\n",
       "       'American Softworks', 'Falcom Corporation', 'Detn8 Games', 'Bomb',\n",
       "       'Nordcurrent', 'Milestone S.r.l.', 'AQ Interactive', 'Sears',\n",
       "       'Seta Corporation', 'On Demand', 'CCP', 'NCS',\n",
       "       'Rebellion Developments', 'Agatsuma Entertainment',\n",
       "       'Gremlin Interactive Ltd', 'Aspyr', 'Compile Heart',\n",
       "       'Culture Brain', 'Mad Catz', 'Shogakukan', 'Merscom LLC',\n",
       "       'JoWood Productions', 'Nippon Telenet', 'TDK Core',\n",
       "       'Kadokawa Games', 'SSI', 'Foreign Media Games', 'Core Design Ltd.',\n",
       "       'bitComposer Games', 'Astragon', 'Asylum Entertainment',\n",
       "       'Performance Designed Products', 'UFO Interactive',\n",
       "       'Essential Games', 'Adeline Software', 'Funcom', 'PlayV',\n",
       "       'Panther Software', 'Blast! Entertainment Ltd',\n",
       "       'Playlogic Game Factory', 'DSI Games', 'Avalon Interactive',\n",
       "       'Game Life', 'Popcorn Arcade', 'Aques', 'System 3', 'Syscom',\n",
       "       'Vir2L Studios', 'Vatical Entertainment', 'Neko Entertainment',\n",
       "       'White Park Bay Software', 'Vic Tokai', 'Media Factory',\n",
       "       'Daedalic', 'Game Arts', 'The Adventure Company', 'EA Games',\n",
       "       'Acquire', 'Broccoli', 'General Entertainment',\n",
       "       'Paradox Interactive', 'Yacht Club Games', 'Imadio',\n",
       "       'Swing! Entertainment', 'Sony Music Entertainment', 'Aqua Plus',\n",
       "       'Excalibur Publishing', 'Hip Interactive', 'Tripwire Interactive',\n",
       "       'Bigben Interactive', 'Sting', 'Data East',\n",
       "       'Idea Factory International', 'Time Warner Interactive',\n",
       "       'Gainax Network Systems', 'Daito', 'O3 Entertainment', 'O-Games',\n",
       "       'Gameloft', 'Xicat Interactive', 'Simon & Schuster Interactive',\n",
       "       'Valcon Games', 'PopTop Software', 'TOHO', 'PM Studios',\n",
       "       'Bohemia Interactive', 'Reef Entertainment', '5pb',\n",
       "       'HMH Interactive', 'DreamCatcher Interactive',\n",
       "       'inXile Entertainment', 'Cave', 'Microids', 'Paon', 'Idea Factory',\n",
       "       'U.S. Gold', 'CDV Software Entertainment', 'Micro Cabin',\n",
       "       'GameTek', 'Benesse', 'Type-Moon', 'Enjoy Gaming ltd.', 'MTO',\n",
       "       'Asmik Corp', 'Interplay Productions', 'Asmik Ace Entertainment',\n",
       "       'Image Epoch', 'Phantom EFX', 'Evolved Games', 'responDESIGN',\n",
       "       'Data Design Interactive', 'Griffin International',\n",
       "       'Culture Publishers', 'Hackberry', 'HAL Laboratory', 'Aksys Games',\n",
       "       'Phenomedia', 'Grand Prix Games', 'Mercury Games', 'DigiCube',\n",
       "       'Creative Core', 'Gamecock', 'Kaga Create', 'Graffiti',\n",
       "       'WayForward Technologies', 'Pack-In-Video', 'LSP Games',\n",
       "       'ASCII Media Works', '1C Company', 'Coconuts Japan', 'Arika',\n",
       "       'Tivola', 'Marvel Entertainment', 'Ertain', 'Asgard', 'Prototype',\n",
       "       'Phantagram', 'The Learning Company', 'TechnoSoft', 'MLB.com',\n",
       "       'Irem Software Engineering', 'Vap', 'Misawa', 'Yeti',\n",
       "       'Dusenberry Martin Racing', 'Navarre Corp', 'Pow', 'MediaQuest',\n",
       "       'Team17 Software', 'Max Five', 'Tradewest', 'Happinet', 'Comfort',\n",
       "       'Milestone S.r.l', 'Pony Canyon', 'Riverhillsoft', 'Media Works',\n",
       "       'Summitsoft', 'Playmore', 'Kool Kizz', 'Monte Christo Multimedia',\n",
       "       'TopWare Interactive', 'Tommo', 'Slitherine Software',\n",
       "       'Legacy Interactive', 'Cloud Imperium Games Corporation',\n",
       "       'Flashpoint Games', 'Alternative Software',\n",
       "       'Ascaron Entertainment GmbH', 'CyberFront', 'Alawar Entertainment',\n",
       "       'Societa', 'DHM Interactive', 'Interchannel', 'Flight-Plan',\n",
       "       'Funsta', 'Experience Inc.', 'Sonnet', 'Virtual Play Games',\n",
       "       'Tru Blu Entertainment', 'Zenrin', 'Iceberg Interactive',\n",
       "       'Ivolgamus', 'MC2 Entertainment', '2D Boy', 'Games Workshop',\n",
       "       'Global A Entertainment', 'Kando Games', 'Office Create',\n",
       "       'Daedalic Entertainment', 'Maximum Family Games', 'Fields',\n",
       "       'Gearbox Software', 'Princess Soft', 'Extreme Entertainment Group',\n",
       "       'Big Fish Games', 'Berkeley', 'Mamba Games', 'Fuji',\n",
       "       'FuRyu Corporation', 'Her Interactive', 'imageepoch Inc.',\n",
       "       'Just Flight', 'Myelin Media', 'Kamui', 'ASK', 'Insomniac Games',\n",
       "       'Cygames', 'Introversion Software', '49Games', 'KSS',\n",
       "       'dramatic create', 'TGL', 'KID', 'Quinrose', 'Sold Out', 'Encore',\n",
       "       'G.Rev', 'Sunflowers', 'Headup Games', 'Sweets',\n",
       "       'Kokopeli Digital Studios', 'id Software', 'Nexon',\n",
       "       '10TACLE Studios', 'BushiRoad', 'Devolver Digital', 'Number None',\n",
       "       'Tryfirst', 'GN Software', \"Yuke's\", 'Strategy First',\n",
       "       'Lexicon Entertainment', 'Groove Games', 'Paon Corporation',\n",
       "       'Kids Station', 'Licensed 4U', 'Edia', 'GOA', '7G//AMES',\n",
       "       'King Records', 'Minato Station', 'Graphsim Entertainment',\n",
       "       'Easy Interactive', 'Gaga', 'Yamasa Entertainment', 'Plenty',\n",
       "       'Views', 'Blue Byte', 'fonfun', 'NetRevo', 'Epic Games', 'Quintet',\n",
       "       'Focus Multimedia', 'Phoenix Games', 'Marvelous Games', 'Dorart',\n",
       "       'Codemasters Online', 'Stainless Games', 'Athena', 'Aerosoft',\n",
       "       'Imageworks', 'Karin Entertainment', 'Technos Japan Corporation',\n",
       "       'Masque Publishing', 'Gakken', 'New World Computing',\n",
       "       'Sunrise Interactive', 'Mirai Shounen', 'Datam Polystar', 'HuneX',\n",
       "       'Revolution Software', 'Visco', 'Saurus', 'Revolution (Japan)',\n",
       "       'Giza10', 'Alvion', 'Giga', 'Mycom', 'Crimson Cow', 'Warashi',\n",
       "       'System Soft', 'RED Entertainment', 'Lighthouse Interactive',\n",
       "       'Michaelsoft', 'Media Entertainment', 'Genterprise',\n",
       "       'Interworks Unlimited, Inc.', 'Inti Creates', 'Boost On', 'Moss',\n",
       "       'EON Digital Entertainment', 'Nitroplus', 'Naxat Soft', 'Piacci',\n",
       "       'Paradox Development', 'Otomate', 'Ascaron Entertainment',\n",
       "       'Ongakukan', 'Commseed', 'UIG Entertainment', 'Takuyo',\n",
       "       'Interchannel-Holon', 'Red Flagship', 'SCS Software',\n",
       "       'Havas Interactive', 'Telstar', 'DreamWorks Interactive', 'Crytek',\n",
       "       'FunSoft', 'SPS', 'T&E Soft', 'NDA Productions', 'Hearty Robin',\n",
       "       'Nippon Amuse', 'Origin Systems', 'Seventh Chord', 'Abylight',\n",
       "       'Mitsui', 'Milestone', 'Glams', 'Locus', 'Warp', 'Elite',\n",
       "       'Evolution Games', 'Aria', 'Altron', 'Fortyfive', 'Imax', 'iWin',\n",
       "       'Ecole', 'Yumedia'], dtype=object)"
      ]
     },
     "execution_count": 25,
     "metadata": {},
     "output_type": "execute_result"
    }
   ],
   "source": [
    "Data.Publisher.unique()"
   ]
  },
  {
   "cell_type": "code",
   "execution_count": 26,
   "id": "0db84bda",
   "metadata": {},
   "outputs": [
    {
     "data": {
      "text/plain": [
       "54"
      ]
     },
     "execution_count": 26,
     "metadata": {},
     "output_type": "execute_result"
    }
   ],
   "source": [
    "Data.Publisher.isnull().sum()"
   ]
  },
  {
   "cell_type": "code",
   "execution_count": 27,
   "id": "e3e43b2d",
   "metadata": {},
   "outputs": [],
   "source": [
    "l = dict(Data.Name[Data.Publisher.isnull()])"
   ]
  },
  {
   "cell_type": "code",
   "execution_count": 28,
   "id": "0a6b657b",
   "metadata": {},
   "outputs": [
    {
     "name": "stderr",
     "output_type": "stream",
     "text": [
      "C:\\Users\\HP\\AppData\\Local\\Temp/ipykernel_13544/1457524211.py:1: SettingWithCopyWarning: \n",
      "A value is trying to be set on a copy of a slice from a DataFrame\n",
      "\n",
      "See the caveats in the documentation: https://pandas.pydata.org/pandas-docs/stable/user_guide/indexing.html#returning-a-view-versus-a-copy\n",
      "  Data.Publisher[Data.Name==l[475]] = \"THQ\"\n",
      "C:\\Users\\HP\\AppData\\Local\\Temp/ipykernel_13544/1457524211.py:2: SettingWithCopyWarning: \n",
      "A value is trying to be set on a copy of a slice from a DataFrame\n",
      "\n",
      "See the caveats in the documentation: https://pandas.pydata.org/pandas-docs/stable/user_guide/indexing.html#returning-a-view-versus-a-copy\n",
      "  Data.Publisher[Data.Name==l[1301]] = \"Electronic Arts\"\n",
      "C:\\Users\\HP\\AppData\\Local\\Temp/ipykernel_13544/1457524211.py:3: SettingWithCopyWarning: \n",
      "A value is trying to be set on a copy of a slice from a DataFrame\n",
      "\n",
      "See the caveats in the documentation: https://pandas.pydata.org/pandas-docs/stable/user_guide/indexing.html#returning-a-view-versus-a-copy\n",
      "  Data.Publisher[Data.Name==l[1667]] = \"Take-Two Interactive\"\n",
      "C:\\Users\\HP\\AppData\\Local\\Temp/ipykernel_13544/1457524211.py:4: SettingWithCopyWarning: \n",
      "A value is trying to be set on a copy of a slice from a DataFrame\n",
      "\n",
      "See the caveats in the documentation: https://pandas.pydata.org/pandas-docs/stable/user_guide/indexing.html#returning-a-view-versus-a-copy\n",
      "  Data.Publisher[Data.Name==l[2212]] = \"Sony Computer Entertainment\"\n",
      "C:\\Users\\HP\\AppData\\Local\\Temp/ipykernel_13544/1457524211.py:5: SettingWithCopyWarning: \n",
      "A value is trying to be set on a copy of a slice from a DataFrame\n",
      "\n",
      "See the caveats in the documentation: https://pandas.pydata.org/pandas-docs/stable/user_guide/indexing.html#returning-a-view-versus-a-copy\n",
      "  Data.Publisher[Data.Name==l[3148]] = \"Majesco Entertainment\"\n",
      "C:\\Users\\HP\\AppData\\Local\\Temp/ipykernel_13544/1457524211.py:6: SettingWithCopyWarning: \n",
      "A value is trying to be set on a copy of a slice from a DataFrame\n",
      "\n",
      "See the caveats in the documentation: https://pandas.pydata.org/pandas-docs/stable/user_guide/indexing.html#returning-a-view-versus-a-copy\n",
      "  Data.Publisher[Data.Name==l[3159]] = \"Majesco Entertainment\"\n",
      "C:\\Users\\HP\\AppData\\Local\\Temp/ipykernel_13544/1457524211.py:7: SettingWithCopyWarning: \n",
      "A value is trying to be set on a copy of a slice from a DataFrame\n",
      "\n",
      "See the caveats in the documentation: https://pandas.pydata.org/pandas-docs/stable/user_guide/indexing.html#returning-a-view-versus-a-copy\n",
      "  Data.Publisher[Data.Name==l[3755]] = \"Majesco Entertainment\"\n",
      "C:\\Users\\HP\\AppData\\Local\\Temp/ipykernel_13544/1457524211.py:8: SettingWithCopyWarning: \n",
      "A value is trying to be set on a copy of a slice from a DataFrame\n",
      "\n",
      "See the caveats in the documentation: https://pandas.pydata.org/pandas-docs/stable/user_guide/indexing.html#returning-a-view-versus-a-copy\n",
      "  Data.Publisher[Data.Name==l[4127]] = \"Sega\"\n",
      "C:\\Users\\HP\\AppData\\Local\\Temp/ipykernel_13544/1457524211.py:9: SettingWithCopyWarning: \n",
      "A value is trying to be set on a copy of a slice from a DataFrame\n",
      "\n",
      "See the caveats in the documentation: https://pandas.pydata.org/pandas-docs/stable/user_guide/indexing.html#returning-a-view-versus-a-copy\n",
      "  Data.Publisher[Data.Name==l[4508]] = \"THQ\"\n",
      "C:\\Users\\HP\\AppData\\Local\\Temp/ipykernel_13544/1457524211.py:10: SettingWithCopyWarning: \n",
      "A value is trying to be set on a copy of a slice from a DataFrame\n",
      "\n",
      "See the caveats in the documentation: https://pandas.pydata.org/pandas-docs/stable/user_guide/indexing.html#returning-a-view-versus-a-copy\n",
      "  Data.Publisher[Data.Name==l[4615]] = \"THQ\"\n",
      "C:\\Users\\HP\\AppData\\Local\\Temp/ipykernel_13544/1457524211.py:11: SettingWithCopyWarning: \n",
      "A value is trying to be set on a copy of a slice from a DataFrame\n",
      "\n",
      "See the caveats in the documentation: https://pandas.pydata.org/pandas-docs/stable/user_guide/indexing.html#returning-a-view-versus-a-copy\n",
      "  Data.Publisher[Data.Name==l[5294]] = \"Nintendo\"\n",
      "C:\\Users\\HP\\AppData\\Local\\Temp/ipykernel_13544/1457524211.py:12: SettingWithCopyWarning: \n",
      "A value is trying to be set on a copy of a slice from a DataFrame\n",
      "\n",
      "See the caveats in the documentation: https://pandas.pydata.org/pandas-docs/stable/user_guide/indexing.html#returning-a-view-versus-a-copy\n",
      "  Data.Publisher[Data.Name==l[5633]] = \"Majesco Entertainment\"\n",
      "C:\\Users\\HP\\AppData\\Local\\Temp/ipykernel_13544/1457524211.py:13: SettingWithCopyWarning: \n",
      "A value is trying to be set on a copy of a slice from a DataFrame\n",
      "\n",
      "See the caveats in the documentation: https://pandas.pydata.org/pandas-docs/stable/user_guide/indexing.html#returning-a-view-versus-a-copy\n",
      "  Data.Publisher[Data.Name==l[6256]] = \"Nintendo\"\n",
      "C:\\Users\\HP\\AppData\\Local\\Temp/ipykernel_13544/1457524211.py:14: SettingWithCopyWarning: \n",
      "A value is trying to be set on a copy of a slice from a DataFrame\n",
      "\n",
      "See the caveats in the documentation: https://pandas.pydata.org/pandas-docs/stable/user_guide/indexing.html#returning-a-view-versus-a-copy\n",
      "  Data.Publisher[Data.Name==l[6415]] = \"Majesco Entertainment\"\n",
      "C:\\Users\\HP\\AppData\\Local\\Temp/ipykernel_13544/1457524211.py:15: SettingWithCopyWarning: \n",
      "A value is trying to be set on a copy of a slice from a DataFrame\n",
      "\n",
      "See the caveats in the documentation: https://pandas.pydata.org/pandas-docs/stable/user_guide/indexing.html#returning-a-view-versus-a-copy\n",
      "  Data.Publisher[Data.Name==l[6532]] = \"Gotham Games\"\n",
      "C:\\Users\\HP\\AppData\\Local\\Temp/ipykernel_13544/1457524211.py:16: SettingWithCopyWarning: \n",
      "A value is trying to be set on a copy of a slice from a DataFrame\n",
      "\n",
      "See the caveats in the documentation: https://pandas.pydata.org/pandas-docs/stable/user_guide/indexing.html#returning-a-view-versus-a-copy\n",
      "  Data.Publisher[Data.Name==l[6626]] = \"Nintendo\"\n",
      "C:\\Users\\HP\\AppData\\Local\\Temp/ipykernel_13544/1457524211.py:17: SettingWithCopyWarning: \n",
      "A value is trying to be set on a copy of a slice from a DataFrame\n",
      "\n",
      "See the caveats in the documentation: https://pandas.pydata.org/pandas-docs/stable/user_guide/indexing.html#returning-a-view-versus-a-copy\n",
      "  Data.Publisher[Data.Name==l[6831]] = \"THQ\"\n",
      "C:\\Users\\HP\\AppData\\Local\\Temp/ipykernel_13544/1457524211.py:18: SettingWithCopyWarning: \n",
      "A value is trying to be set on a copy of a slice from a DataFrame\n",
      "\n",
      "See the caveats in the documentation: https://pandas.pydata.org/pandas-docs/stable/user_guide/indexing.html#returning-a-view-versus-a-copy\n",
      "  Data.Publisher[Data.Name==l[7189]] = \"Nintendo\"\n",
      "C:\\Users\\HP\\AppData\\Local\\Temp/ipykernel_13544/1457524211.py:19: SettingWithCopyWarning: \n",
      "A value is trying to be set on a copy of a slice from a DataFrame\n",
      "\n",
      "See the caveats in the documentation: https://pandas.pydata.org/pandas-docs/stable/user_guide/indexing.html#returning-a-view-versus-a-copy\n",
      "  Data.Publisher[Data.Name==l[7333]] = \"Atari\"\n",
      "C:\\Users\\HP\\AppData\\Local\\Temp/ipykernel_13544/1457524211.py:20: SettingWithCopyWarning: \n",
      "A value is trying to be set on a copy of a slice from a DataFrame\n",
      "\n",
      "See the caveats in the documentation: https://pandas.pydata.org/pandas-docs/stable/user_guide/indexing.html#returning-a-view-versus-a-copy\n",
      "  Data.Publisher[Data.Name==l[7477]] = \"Nintendo\"\n",
      "C:\\Users\\HP\\AppData\\Local\\Temp/ipykernel_13544/1457524211.py:21: SettingWithCopyWarning: \n",
      "A value is trying to be set on a copy of a slice from a DataFrame\n",
      "\n",
      "See the caveats in the documentation: https://pandas.pydata.org/pandas-docs/stable/user_guide/indexing.html#returning-a-view-versus-a-copy\n",
      "  Data.Publisher[Data.Name==l[7930]] = \"THQ\"\n",
      "C:\\Users\\HP\\AppData\\Local\\Temp/ipykernel_13544/1457524211.py:22: SettingWithCopyWarning: \n",
      "A value is trying to be set on a copy of a slice from a DataFrame\n",
      "\n",
      "See the caveats in the documentation: https://pandas.pydata.org/pandas-docs/stable/user_guide/indexing.html#returning-a-view-versus-a-copy\n",
      "  Data.Publisher[Data.Name==l[8317]]=\"Nintendo\"\n",
      "C:\\Users\\HP\\AppData\\Local\\Temp/ipykernel_13544/1457524211.py:23: SettingWithCopyWarning: \n",
      "A value is trying to be set on a copy of a slice from a DataFrame\n",
      "\n",
      "See the caveats in the documentation: https://pandas.pydata.org/pandas-docs/stable/user_guide/indexing.html#returning-a-view-versus-a-copy\n",
      "  Data.Publisher[Data.Name==l[8328]]=\"Global Star\"\n",
      "C:\\Users\\HP\\AppData\\Local\\Temp/ipykernel_13544/1457524211.py:24: SettingWithCopyWarning: \n",
      "A value is trying to be set on a copy of a slice from a DataFrame\n",
      "\n",
      "See the caveats in the documentation: https://pandas.pydata.org/pandas-docs/stable/user_guide/indexing.html#returning-a-view-versus-a-copy\n",
      "  Data.Publisher[Data.Name==l[8358]]=\"Konami Digital Entertainment\"\n",
      "C:\\Users\\HP\\AppData\\Local\\Temp/ipykernel_13544/1457524211.py:25: SettingWithCopyWarning: \n",
      "A value is trying to be set on a copy of a slice from a DataFrame\n",
      "\n",
      "See the caveats in the documentation: https://pandas.pydata.org/pandas-docs/stable/user_guide/indexing.html#returning-a-view-versus-a-copy\n",
      "  Data.Publisher[Data.Name==l[8494]]=\"Unknown\"\n",
      "C:\\Users\\HP\\AppData\\Local\\Temp/ipykernel_13544/1457524211.py:26: SettingWithCopyWarning: \n",
      "A value is trying to be set on a copy of a slice from a DataFrame\n",
      "\n",
      "See the caveats in the documentation: https://pandas.pydata.org/pandas-docs/stable/user_guide/indexing.html#returning-a-view-versus-a-copy\n",
      "  Data.Publisher[Data.Name==l[8754]]=\"Majesco Entertainment\"\n",
      "C:\\Users\\HP\\AppData\\Local\\Temp/ipykernel_13544/1457524211.py:27: SettingWithCopyWarning: \n",
      "A value is trying to be set on a copy of a slice from a DataFrame\n",
      "\n",
      "See the caveats in the documentation: https://pandas.pydata.org/pandas-docs/stable/user_guide/indexing.html#returning-a-view-versus-a-copy\n",
      "  Data.Publisher[Data.Name==l[8837]]=\"Nintendo\"\n",
      "C:\\Users\\HP\\AppData\\Local\\Temp/ipykernel_13544/1457524211.py:28: SettingWithCopyWarning: \n",
      "A value is trying to be set on a copy of a slice from a DataFrame\n",
      "\n",
      "See the caveats in the documentation: https://pandas.pydata.org/pandas-docs/stable/user_guide/indexing.html#returning-a-view-versus-a-copy\n",
      "  Data.Publisher[Data.Name==l[8883]]=\"Nintendo\"\n",
      "C:\\Users\\HP\\AppData\\Local\\Temp/ipykernel_13544/1457524211.py:29: SettingWithCopyWarning: \n",
      "A value is trying to be set on a copy of a slice from a DataFrame\n",
      "\n",
      "See the caveats in the documentation: https://pandas.pydata.org/pandas-docs/stable/user_guide/indexing.html#returning-a-view-versus-a-copy\n",
      "  Data.Publisher[Data.Name==l[9703]]=\"Majesco Entertainment\"\n",
      "C:\\Users\\HP\\AppData\\Local\\Temp/ipykernel_13544/1457524211.py:30: SettingWithCopyWarning: \n",
      "A value is trying to be set on a copy of a slice from a DataFrame\n",
      "\n",
      "See the caveats in the documentation: https://pandas.pydata.org/pandas-docs/stable/user_guide/indexing.html#returning-a-view-versus-a-copy\n",
      "  Data.Publisher[Data.Name==l[9812]]=\"Konami Digital Entertainment\"\n",
      "C:\\Users\\HP\\AppData\\Local\\Temp/ipykernel_13544/1457524211.py:31: SettingWithCopyWarning: \n",
      "A value is trying to be set on a copy of a slice from a DataFrame\n",
      "\n",
      "See the caveats in the documentation: https://pandas.pydata.org/pandas-docs/stable/user_guide/indexing.html#returning-a-view-versus-a-copy\n",
      "  Data.Publisher[Data.Name==l[10418]]=\"Habro Interactive\"\n",
      "C:\\Users\\HP\\AppData\\Local\\Temp/ipykernel_13544/1457524211.py:32: SettingWithCopyWarning: \n",
      "A value is trying to be set on a copy of a slice from a DataFrame\n",
      "\n",
      "See the caveats in the documentation: https://pandas.pydata.org/pandas-docs/stable/user_guide/indexing.html#returning-a-view-versus-a-copy\n",
      "  Data.Publisher[Data.Name==l[11175]]=\"Microsoft Game Studios\"\n",
      "C:\\Users\\HP\\AppData\\Local\\Temp/ipykernel_13544/1457524211.py:33: SettingWithCopyWarning: \n",
      "A value is trying to be set on a copy of a slice from a DataFrame\n",
      "\n",
      "See the caveats in the documentation: https://pandas.pydata.org/pandas-docs/stable/user_guide/indexing.html#returning-a-view-versus-a-copy\n",
      "  Data.Publisher[Data.Name==l[11569]]=\"Hudson soft\"\n",
      "C:\\Users\\HP\\AppData\\Local\\Temp/ipykernel_13544/1457524211.py:34: SettingWithCopyWarning: \n",
      "A value is trying to be set on a copy of a slice from a DataFrame\n",
      "\n",
      "See the caveats in the documentation: https://pandas.pydata.org/pandas-docs/stable/user_guide/indexing.html#returning-a-view-versus-a-copy\n",
      "  Data.Publisher[Data.Name==l[11985]]=\"Unknown\"\n",
      "C:\\Users\\HP\\AppData\\Local\\Temp/ipykernel_13544/1457524211.py:35: SettingWithCopyWarning: \n",
      "A value is trying to be set on a copy of a slice from a DataFrame\n",
      "\n",
      "See the caveats in the documentation: https://pandas.pydata.org/pandas-docs/stable/user_guide/indexing.html#returning-a-view-versus-a-copy\n",
      "  Data.Publisher[Data.Name==l[12209]]=\"Nintendo\"\n",
      "C:\\Users\\HP\\AppData\\Local\\Temp/ipykernel_13544/1457524211.py:36: SettingWithCopyWarning: \n",
      "A value is trying to be set on a copy of a slice from a DataFrame\n",
      "\n",
      "See the caveats in the documentation: https://pandas.pydata.org/pandas-docs/stable/user_guide/indexing.html#returning-a-view-versus-a-copy\n",
      "  Data.Publisher[Data.Name==l[12544]]=\"Wargaming.net\"\n",
      "C:\\Users\\HP\\AppData\\Local\\Temp/ipykernel_13544/1457524211.py:37: SettingWithCopyWarning: \n",
      "A value is trying to be set on a copy of a slice from a DataFrame\n",
      "\n",
      "See the caveats in the documentation: https://pandas.pydata.org/pandas-docs/stable/user_guide/indexing.html#returning-a-view-versus-a-copy\n",
      "  Data.Publisher[Data.Name==l[12629]]=\"Nintendo\"\n",
      "C:\\Users\\HP\\AppData\\Local\\Temp/ipykernel_13544/1457524211.py:38: SettingWithCopyWarning: \n",
      "A value is trying to be set on a copy of a slice from a DataFrame\n",
      "\n",
      "See the caveats in the documentation: https://pandas.pydata.org/pandas-docs/stable/user_guide/indexing.html#returning-a-view-versus-a-copy\n",
      "  Data.Publisher[Data.Name==l[12881]]=\"Sony Computer Entertainment\"\n",
      "C:\\Users\\HP\\AppData\\Local\\Temp/ipykernel_13544/1457524211.py:39: SettingWithCopyWarning: \n",
      "A value is trying to be set on a copy of a slice from a DataFrame\n",
      "\n",
      "See the caveats in the documentation: https://pandas.pydata.org/pandas-docs/stable/user_guide/indexing.html#returning-a-view-versus-a-copy\n",
      "  Data.Publisher[Data.Name==l[13197]] = \"Nintendo\"\n",
      "C:\\Users\\HP\\AppData\\Local\\Temp/ipykernel_13544/1457524211.py:40: SettingWithCopyWarning: \n",
      "A value is trying to be set on a copy of a slice from a DataFrame\n",
      "\n",
      "See the caveats in the documentation: https://pandas.pydata.org/pandas-docs/stable/user_guide/indexing.html#returning-a-view-versus-a-copy\n",
      "  Data.Publisher[Data.Name==l[13274]] = \"Nintendo\"\n",
      "C:\\Users\\HP\\AppData\\Local\\Temp/ipykernel_13544/1457524211.py:41: SettingWithCopyWarning: \n",
      "A value is trying to be set on a copy of a slice from a DataFrame\n",
      "\n",
      "See the caveats in the documentation: https://pandas.pydata.org/pandas-docs/stable/user_guide/indexing.html#returning-a-view-versus-a-copy\n",
      "  Data.Publisher[Data.Name==l[13299]] = \"Nintendo\"\n",
      "C:\\Users\\HP\\AppData\\Local\\Temp/ipykernel_13544/1457524211.py:42: SettingWithCopyWarning: \n",
      "A value is trying to be set on a copy of a slice from a DataFrame\n",
      "\n",
      "See the caveats in the documentation: https://pandas.pydata.org/pandas-docs/stable/user_guide/indexing.html#returning-a-view-versus-a-copy\n",
      "  Data.Publisher[Data.Name==l[13537]] = \"Rejet\"\n",
      "C:\\Users\\HP\\AppData\\Local\\Temp/ipykernel_13544/1457524211.py:43: SettingWithCopyWarning: \n",
      "A value is trying to be set on a copy of a slice from a DataFrame\n",
      "\n",
      "See the caveats in the documentation: https://pandas.pydata.org/pandas-docs/stable/user_guide/indexing.html#returning-a-view-versus-a-copy\n",
      "  Data.Publisher[Data.Name==l[13876]] = \"Zoo Games\"\n",
      "C:\\Users\\HP\\AppData\\Local\\Temp/ipykernel_13544/1457524211.py:44: SettingWithCopyWarning: \n",
      "A value is trying to be set on a copy of a slice from a DataFrame\n",
      "\n",
      "See the caveats in the documentation: https://pandas.pydata.org/pandas-docs/stable/user_guide/indexing.html#returning-a-view-versus-a-copy\n",
      "  Data.Publisher[Data.Name==l[14137]] = \"Gearbox Software\"\n",
      "C:\\Users\\HP\\AppData\\Local\\Temp/ipykernel_13544/1457524211.py:45: SettingWithCopyWarning: \n",
      "A value is trying to be set on a copy of a slice from a DataFrame\n",
      "\n",
      "See the caveats in the documentation: https://pandas.pydata.org/pandas-docs/stable/user_guide/indexing.html#returning-a-view-versus-a-copy\n",
      "  Data.Publisher[Data.Name==l[14153]] = \"Unknown\"\n",
      "C:\\Users\\HP\\AppData\\Local\\Temp/ipykernel_13544/1457524211.py:46: SettingWithCopyWarning: \n",
      "A value is trying to be set on a copy of a slice from a DataFrame\n",
      "\n",
      "See the caveats in the documentation: https://pandas.pydata.org/pandas-docs/stable/user_guide/indexing.html#returning-a-view-versus-a-copy\n",
      "  Data.Publisher[Data.Name==l[14163]] = \"Majesco Entertainment\"\n",
      "C:\\Users\\HP\\AppData\\Local\\Temp/ipykernel_13544/1457524211.py:47: SettingWithCopyWarning: \n",
      "A value is trying to be set on a copy of a slice from a DataFrame\n",
      "\n",
      "See the caveats in the documentation: https://pandas.pydata.org/pandas-docs/stable/user_guide/indexing.html#returning-a-view-versus-a-copy\n",
      "  Data.Publisher[Data.Name==l[14189]] = \"Ubisoft\"\n",
      "C:\\Users\\HP\\AppData\\Local\\Temp/ipykernel_13544/1457524211.py:48: SettingWithCopyWarning: \n",
      "A value is trying to be set on a copy of a slice from a DataFrame\n",
      "\n",
      "See the caveats in the documentation: https://pandas.pydata.org/pandas-docs/stable/user_guide/indexing.html#returning-a-view-versus-a-copy\n",
      "  Data.Publisher[Data.Name==l[14196]] = \"Unknown\"\n",
      "C:\\Users\\HP\\AppData\\Local\\Temp/ipykernel_13544/1457524211.py:49: SettingWithCopyWarning: \n",
      "A value is trying to be set on a copy of a slice from a DataFrame\n",
      "\n",
      "See the caveats in the documentation: https://pandas.pydata.org/pandas-docs/stable/user_guide/indexing.html#returning-a-view-versus-a-copy\n",
      "  Data.Publisher[Data.Name==l[14519]] = \"Excalibur publishing\"\n",
      "C:\\Users\\HP\\AppData\\Local\\Temp/ipykernel_13544/1457524211.py:50: SettingWithCopyWarning: \n",
      "A value is trying to be set on a copy of a slice from a DataFrame\n",
      "\n",
      "See the caveats in the documentation: https://pandas.pydata.org/pandas-docs/stable/user_guide/indexing.html#returning-a-view-versus-a-copy\n",
      "  Data.Publisher[Data.Name==l[14747]] = \"Unknown\"\n",
      "C:\\Users\\HP\\AppData\\Local\\Temp/ipykernel_13544/1457524211.py:51: SettingWithCopyWarning: \n",
      "A value is trying to be set on a copy of a slice from a DataFrame\n",
      "\n",
      "See the caveats in the documentation: https://pandas.pydata.org/pandas-docs/stable/user_guide/indexing.html#returning-a-view-versus-a-copy\n",
      "  Data.Publisher[Data.Name==l[14975]] = \"Unknown\"\n",
      "C:\\Users\\HP\\AppData\\Local\\Temp/ipykernel_13544/1457524211.py:52: SettingWithCopyWarning: \n",
      "A value is trying to be set on a copy of a slice from a DataFrame\n",
      "\n",
      "See the caveats in the documentation: https://pandas.pydata.org/pandas-docs/stable/user_guide/indexing.html#returning-a-view-versus-a-copy\n",
      "  Data.Publisher[Data.Name==l[15621]] = \"Majesco Entertainment\"\n",
      "C:\\Users\\HP\\AppData\\Local\\Temp/ipykernel_13544/1457524211.py:53: SettingWithCopyWarning: \n",
      "A value is trying to be set on a copy of a slice from a DataFrame\n",
      "\n",
      "See the caveats in the documentation: https://pandas.pydata.org/pandas-docs/stable/user_guide/indexing.html#returning-a-view-versus-a-copy\n",
      "  Data.Publisher[Data.Name==l[16600]] = \"Nintendo\"\n",
      "C:\\Users\\HP\\AppData\\Local\\Temp/ipykernel_13544/1457524211.py:54: SettingWithCopyWarning: \n",
      "A value is trying to be set on a copy of a slice from a DataFrame\n",
      "\n",
      "See the caveats in the documentation: https://pandas.pydata.org/pandas-docs/stable/user_guide/indexing.html#returning-a-view-versus-a-copy\n",
      "  Data.Publisher[Data.Name==l[16644]] = \"Nintendo\"\n"
     ]
    }
   ],
   "source": [
    "Data.Publisher[Data.Name==l[475]] = \"THQ\"\n",
    "Data.Publisher[Data.Name==l[1301]] = \"Electronic Arts\"\n",
    "Data.Publisher[Data.Name==l[1667]] = \"Take-Two Interactive\"\n",
    "Data.Publisher[Data.Name==l[2212]] = \"Sony Computer Entertainment\"\n",
    "Data.Publisher[Data.Name==l[3148]] = \"Majesco Entertainment\"\n",
    "Data.Publisher[Data.Name==l[3159]] = \"Majesco Entertainment\"\n",
    "Data.Publisher[Data.Name==l[3755]] = \"Majesco Entertainment\"\n",
    "Data.Publisher[Data.Name==l[4127]] = \"Sega\"\n",
    "Data.Publisher[Data.Name==l[4508]] = \"THQ\"\n",
    "Data.Publisher[Data.Name==l[4615]] = \"THQ\"\n",
    "Data.Publisher[Data.Name==l[5294]] = \"Nintendo\"\n",
    "Data.Publisher[Data.Name==l[5633]] = \"Majesco Entertainment\"\n",
    "Data.Publisher[Data.Name==l[6256]] = \"Nintendo\"\n",
    "Data.Publisher[Data.Name==l[6415]] = \"Majesco Entertainment\"\n",
    "Data.Publisher[Data.Name==l[6532]] = \"Gotham Games\"\n",
    "Data.Publisher[Data.Name==l[6626]] = \"Nintendo\"\n",
    "Data.Publisher[Data.Name==l[6831]] = \"THQ\"\n",
    "Data.Publisher[Data.Name==l[7189]] = \"Nintendo\"\n",
    "Data.Publisher[Data.Name==l[7333]] = \"Atari\"\n",
    "Data.Publisher[Data.Name==l[7477]] = \"Nintendo\"\n",
    "Data.Publisher[Data.Name==l[7930]] = \"THQ\"\n",
    "Data.Publisher[Data.Name==l[8317]]=\"Nintendo\"\n",
    "Data.Publisher[Data.Name==l[8328]]=\"Global Star\"\n",
    "Data.Publisher[Data.Name==l[8358]]=\"Konami Digital Entertainment\"\n",
    "Data.Publisher[Data.Name==l[8494]]=\"Unknown\"\n",
    "Data.Publisher[Data.Name==l[8754]]=\"Majesco Entertainment\"\n",
    "Data.Publisher[Data.Name==l[8837]]=\"Nintendo\"\n",
    "Data.Publisher[Data.Name==l[8883]]=\"Nintendo\"\n",
    "Data.Publisher[Data.Name==l[9703]]=\"Majesco Entertainment\"\n",
    "Data.Publisher[Data.Name==l[9812]]=\"Konami Digital Entertainment\"\n",
    "Data.Publisher[Data.Name==l[10418]]=\"Habro Interactive\"\n",
    "Data.Publisher[Data.Name==l[11175]]=\"Microsoft Game Studios\"\n",
    "Data.Publisher[Data.Name==l[11569]]=\"Hudson soft\"\n",
    "Data.Publisher[Data.Name==l[11985]]=\"Unknown\"\n",
    "Data.Publisher[Data.Name==l[12209]]=\"Nintendo\"\n",
    "Data.Publisher[Data.Name==l[12544]]=\"Wargaming.net\"\n",
    "Data.Publisher[Data.Name==l[12629]]=\"Nintendo\"\n",
    "Data.Publisher[Data.Name==l[12881]]=\"Sony Computer Entertainment\"\n",
    "Data.Publisher[Data.Name==l[13197]] = \"Nintendo\"\n",
    "Data.Publisher[Data.Name==l[13274]] = \"Nintendo\"\n",
    "Data.Publisher[Data.Name==l[13299]] = \"Nintendo\"\n",
    "Data.Publisher[Data.Name==l[13537]] = \"Rejet\"\n",
    "Data.Publisher[Data.Name==l[13876]] = \"Zoo Games\"\n",
    "Data.Publisher[Data.Name==l[14137]] = \"Gearbox Software\"\n",
    "Data.Publisher[Data.Name==l[14153]] = \"Unknown\"\n",
    "Data.Publisher[Data.Name==l[14163]] = \"Majesco Entertainment\"\n",
    "Data.Publisher[Data.Name==l[14189]] = \"Ubisoft\"\n",
    "Data.Publisher[Data.Name==l[14196]] = \"Unknown\"\n",
    "Data.Publisher[Data.Name==l[14519]] = \"Excalibur publishing\"\n",
    "Data.Publisher[Data.Name==l[14747]] = \"Unknown\"\n",
    "Data.Publisher[Data.Name==l[14975]] = \"Unknown\"\n",
    "Data.Publisher[Data.Name==l[15621]] = \"Majesco Entertainment\"\n",
    "Data.Publisher[Data.Name==l[16600]] = \"Nintendo\"\n",
    "Data.Publisher[Data.Name==l[16644]] = \"Nintendo\""
   ]
  },
  {
   "cell_type": "code",
   "execution_count": 29,
   "id": "c4d82046",
   "metadata": {},
   "outputs": [
    {
     "data": {
      "text/plain": [
       "Electronic Arts                 1357\n",
       "Activision                       985\n",
       "Namco Bandai Games               938\n",
       "Ubisoft                          934\n",
       "Konami Digital Entertainment     836\n",
       "                                ... \n",
       "Navarre Corp                       1\n",
       "Pow                                1\n",
       "MediaQuest                         1\n",
       "Team17 Software                    1\n",
       "Yumedia                            1\n",
       "Name: Publisher, Length: 584, dtype: int64"
      ]
     },
     "execution_count": 29,
     "metadata": {},
     "output_type": "execute_result"
    }
   ],
   "source": [
    "Data.Publisher.value_counts()"
   ]
  },
  {
   "cell_type": "code",
   "execution_count": 30,
   "id": "a074b2d7",
   "metadata": {},
   "outputs": [
    {
     "name": "stderr",
     "output_type": "stream",
     "text": [
      "C:\\Users\\HP\\anaconda3\\lib\\site-packages\\seaborn\\_decorators.py:36: FutureWarning: Pass the following variable as a keyword arg: x. From version 0.12, the only valid positional argument will be `data`, and passing other arguments without an explicit keyword will result in an error or misinterpretation.\n",
      "  warnings.warn(\n"
     ]
    },
    {
     "data": {
      "text/plain": [
       "<AxesSubplot:xlabel='Publisher', ylabel='count'>"
      ]
     },
     "execution_count": 30,
     "metadata": {},
     "output_type": "execute_result"
    },
    {
     "data": {
      "image/png": "[encoded data removed]",
      "text/plain": [
       "<Figure size 2160x288 with 1 Axes>"
      ]
     },
     "metadata": {
      "needs_background": "light"
     },
     "output_type": "display_data"
    }
   ],
   "source": [
    "plt.figure(figsize=(30,4))\n",
    "sns.countplot(Data.Publisher)"
   ]
  },
  {
   "cell_type": "code",
   "execution_count": 31,
   "id": "68fa7a35",
   "metadata": {},
   "outputs": [
    {
     "data": {
      "text/plain": [
       "count    8137.000000\n",
       "mean       68.967679\n",
       "std        13.938165\n",
       "min        13.000000\n",
       "25%        60.000000\n",
       "50%        71.000000\n",
       "75%        79.000000\n",
       "max        98.000000\n",
       "Name: Critic_Score, dtype: float64"
      ]
     },
     "execution_count": 31,
     "metadata": {},
     "output_type": "execute_result"
    }
   ],
   "source": [
    "Data.Critic_Score.describe()"
   ]
  },
  {
   "cell_type": "code",
   "execution_count": 32,
   "id": "2e06bfe0",
   "metadata": {},
   "outputs": [
    {
     "data": {
      "text/plain": [
       "8582"
      ]
     },
     "execution_count": 32,
     "metadata": {},
     "output_type": "execute_result"
    }
   ],
   "source": [
    "Data.Critic_Score.isnull().sum()"
   ]
  },
  {
   "cell_type": "code",
   "execution_count": 33,
   "id": "51671c33",
   "metadata": {},
   "outputs": [],
   "source": [
    "Data.Critic_Score.fillna(Data.Critic_Score.mean(),inplace=True)"
   ]
  },
  {
   "cell_type": "code",
   "execution_count": 34,
   "id": "6c6e8a99",
   "metadata": {},
   "outputs": [
    {
     "data": {
      "text/plain": [
       "0"
      ]
     },
     "execution_count": 34,
     "metadata": {},
     "output_type": "execute_result"
    }
   ],
   "source": [
    "Data.Critic_Score.isnull().sum()"
   ]
  },
  {
   "cell_type": "code",
   "execution_count": 35,
   "id": "d0e56610",
   "metadata": {},
   "outputs": [
    {
     "data": {
      "text/plain": [
       "68.967679    8582\n",
       "70.000000     256\n",
       "71.000000     254\n",
       "75.000000     245\n",
       "78.000000     240\n",
       "             ... \n",
       "20.000000       3\n",
       "17.000000       1\n",
       "13.000000       1\n",
       "21.000000       1\n",
       "22.000000       1\n",
       "Name: Critic_Score, Length: 83, dtype: int64"
      ]
     },
     "execution_count": 35,
     "metadata": {},
     "output_type": "execute_result"
    }
   ],
   "source": [
    "Data.Critic_Score.value_counts()"
   ]
  },
  {
   "cell_type": "code",
   "execution_count": 36,
   "id": "0c1a9c5e",
   "metadata": {},
   "outputs": [
    {
     "data": {
      "text/plain": [
       "count    8137.000000\n",
       "mean       26.360821\n",
       "std        18.980495\n",
       "min         3.000000\n",
       "25%        12.000000\n",
       "50%        21.000000\n",
       "75%        36.000000\n",
       "max       113.000000\n",
       "Name: Critic_Count, dtype: float64"
      ]
     },
     "execution_count": 36,
     "metadata": {},
     "output_type": "execute_result"
    }
   ],
   "source": [
    "Data.Critic_Count.describe()"
   ]
  },
  {
   "cell_type": "code",
   "execution_count": 37,
   "id": "e4757cbb",
   "metadata": {},
   "outputs": [
    {
     "data": {
      "text/plain": [
       "8582"
      ]
     },
     "execution_count": 37,
     "metadata": {},
     "output_type": "execute_result"
    }
   ],
   "source": [
    "Data.Critic_Count.isnull().sum()"
   ]
  },
  {
   "cell_type": "code",
   "execution_count": 38,
   "id": "3c52b5a7",
   "metadata": {},
   "outputs": [],
   "source": [
    "Data.Critic_Count.fillna(Data.Critic_Score.mean(),inplace=True)"
   ]
  },
  {
   "cell_type": "code",
   "execution_count": 39,
   "id": "5093fe02",
   "metadata": {},
   "outputs": [
    {
     "data": {
      "text/plain": [
       "0"
      ]
     },
     "execution_count": 39,
     "metadata": {},
     "output_type": "execute_result"
    }
   ],
   "source": [
    "Data.Critic_Count.isnull().sum()"
   ]
  },
  {
   "cell_type": "code",
   "execution_count": 40,
   "id": "c46187b7",
   "metadata": {},
   "outputs": [
    {
     "data": {
      "text/plain": [
       "68.967679     8582\n",
       "4.000000       307\n",
       "5.000000       273\n",
       "9.000000       248\n",
       "11.000000      248\n",
       "              ... \n",
       "113.000000       1\n",
       "92.000000        1\n",
       "105.000000       1\n",
       "107.000000       1\n",
       "104.000000       1\n",
       "Name: Critic_Count, Length: 107, dtype: int64"
      ]
     },
     "execution_count": 40,
     "metadata": {},
     "output_type": "execute_result"
    }
   ],
   "source": [
    "Data.Critic_Count.value_counts()"
   ]
  },
  {
   "cell_type": "code",
   "execution_count": 41,
   "id": "9be2b73f",
   "metadata": {},
   "outputs": [
    {
     "data": {
      "text/plain": [
       "count     10015\n",
       "unique       96\n",
       "top         tbd\n",
       "freq       2425\n",
       "Name: User_Score, dtype: object"
      ]
     },
     "execution_count": 41,
     "metadata": {},
     "output_type": "execute_result"
    }
   ],
   "source": [
    "Data.User_Score.describe()"
   ]
  },
  {
   "cell_type": "code",
   "execution_count": 42,
   "id": "f304a515",
   "metadata": {},
   "outputs": [
    {
     "data": {
      "text/plain": [
       "6704"
      ]
     },
     "execution_count": 42,
     "metadata": {},
     "output_type": "execute_result"
    }
   ],
   "source": [
    "Data.User_Score.isnull().sum()"
   ]
  },
  {
   "cell_type": "code",
   "execution_count": 43,
   "id": "96e63fcf",
   "metadata": {},
   "outputs": [],
   "source": [
    "Data.User_Score.fillna(Data.User_Score.mode(),inplace=True)"
   ]
  },
  {
   "cell_type": "code",
   "execution_count": 44,
   "id": "312daf1a",
   "metadata": {},
   "outputs": [
    {
     "data": {
      "text/plain": [
       "6704"
      ]
     },
     "execution_count": 44,
     "metadata": {},
     "output_type": "execute_result"
    }
   ],
   "source": [
    "Data.User_Score.isnull().sum()"
   ]
  },
  {
   "cell_type": "code",
   "execution_count": 45,
   "id": "60ec5264",
   "metadata": {},
   "outputs": [
    {
     "data": {
      "text/plain": [
       "count     7590.000000\n",
       "mean       162.229908\n",
       "std        561.282326\n",
       "min          4.000000\n",
       "25%         10.000000\n",
       "50%         24.000000\n",
       "75%         81.000000\n",
       "max      10665.000000\n",
       "Name: User_Count, dtype: float64"
      ]
     },
     "execution_count": 45,
     "metadata": {},
     "output_type": "execute_result"
    }
   ],
   "source": [
    "Data.User_Count.describe()"
   ]
  },
  {
   "cell_type": "code",
   "execution_count": 46,
   "id": "b8f175d6",
   "metadata": {},
   "outputs": [
    {
     "data": {
      "text/plain": [
       "9129"
      ]
     },
     "execution_count": 46,
     "metadata": {},
     "output_type": "execute_result"
    }
   ],
   "source": [
    "Data.User_Count.isnull().sum()"
   ]
  },
  {
   "cell_type": "code",
   "execution_count": 47,
   "id": "0cf508cb",
   "metadata": {},
   "outputs": [],
   "source": [
    "Data.User_Count.fillna(Data.User_Count.mean(),inplace=True)"
   ]
  },
  {
   "cell_type": "code",
   "execution_count": 48,
   "id": "7df09cdc",
   "metadata": {},
   "outputs": [
    {
     "data": {
      "text/plain": [
       "0"
      ]
     },
     "execution_count": 48,
     "metadata": {},
     "output_type": "execute_result"
    }
   ],
   "source": [
    "Data.User_Count.isnull().sum()"
   ]
  },
  {
   "cell_type": "code",
   "execution_count": 49,
   "id": "ccdcb276",
   "metadata": {},
   "outputs": [
    {
     "data": {
      "text/plain": [
       "count       10096\n",
       "unique       1696\n",
       "top       Ubisoft\n",
       "freq          204\n",
       "Name: Developer, dtype: object"
      ]
     },
     "execution_count": 49,
     "metadata": {},
     "output_type": "execute_result"
    }
   ],
   "source": [
    "Data.Developer.describe()"
   ]
  },
  {
   "cell_type": "code",
   "execution_count": 50,
   "id": "aa0c5aab",
   "metadata": {},
   "outputs": [
    {
     "data": {
      "text/plain": [
       "6623"
      ]
     },
     "execution_count": 50,
     "metadata": {},
     "output_type": "execute_result"
    }
   ],
   "source": [
    "Data.Developer.isnull().sum()"
   ]
  },
  {
   "cell_type": "code",
   "execution_count": 51,
   "id": "08f11bed",
   "metadata": {},
   "outputs": [
    {
     "data": {
      "text/plain": [
       "0    Ubisoft\n",
       "dtype: object"
      ]
     },
     "execution_count": 51,
     "metadata": {},
     "output_type": "execute_result"
    }
   ],
   "source": [
    "Data.Developer.mode()"
   ]
  },
  {
   "cell_type": "code",
   "execution_count": 52,
   "id": "1cc2b6d8",
   "metadata": {},
   "outputs": [],
   "source": [
    "Data.Developer.fillna(\"0\",inplace=True)"
   ]
  },
  {
   "cell_type": "code",
   "execution_count": 53,
   "id": "884a0efb",
   "metadata": {},
   "outputs": [
    {
     "data": {
      "text/plain": [
       "0"
      ]
     },
     "execution_count": 53,
     "metadata": {},
     "output_type": "execute_result"
    }
   ],
   "source": [
    "Data.Developer.isnull().sum()"
   ]
  },
  {
   "cell_type": "code",
   "execution_count": 54,
   "id": "bd5617fa",
   "metadata": {},
   "outputs": [
    {
     "data": {
      "text/plain": [
       "0                                6623\n",
       "Ubisoft                           204\n",
       "EA Sports                         172\n",
       "EA Canada                         167\n",
       "Konami                            162\n",
       "                                 ... \n",
       "Mastertronic, V5 Play Studio        1\n",
       "Hypnos Entertainment                1\n",
       "Ambrella, The Pokemon Company       1\n",
       "Metro3D                             1\n",
       "Valhalla Game Studios               1\n",
       "Name: Developer, Length: 1697, dtype: int64"
      ]
     },
     "execution_count": 54,
     "metadata": {},
     "output_type": "execute_result"
    }
   ],
   "source": [
    "Data.Developer.value_counts()"
   ]
  },
  {
   "cell_type": "code",
   "execution_count": 55,
   "id": "bf774e05",
   "metadata": {},
   "outputs": [
    {
     "data": {
      "text/plain": [
       "count     9950\n",
       "unique       8\n",
       "top          E\n",
       "freq      3991\n",
       "Name: Rating, dtype: object"
      ]
     },
     "execution_count": 55,
     "metadata": {},
     "output_type": "execute_result"
    }
   ],
   "source": [
    "Data.Rating.describe()"
   ]
  },
  {
   "cell_type": "code",
   "execution_count": 56,
   "id": "245b2cb4",
   "metadata": {},
   "outputs": [
    {
     "data": {
      "text/plain": [
       "6769"
      ]
     },
     "execution_count": 56,
     "metadata": {},
     "output_type": "execute_result"
    }
   ],
   "source": [
    "Data.Rating.isnull().sum()"
   ]
  },
  {
   "cell_type": "code",
   "execution_count": 57,
   "id": "a1c97828",
   "metadata": {},
   "outputs": [
    {
     "data": {
      "text/plain": [
       "0    E\n",
       "dtype: object"
      ]
     },
     "execution_count": 57,
     "metadata": {},
     "output_type": "execute_result"
    }
   ],
   "source": [
    "Data.Rating.mode()"
   ]
  },
  {
   "cell_type": "code",
   "execution_count": 58,
   "id": "985d6cac",
   "metadata": {},
   "outputs": [],
   "source": [
    "Data.Rating.fillna(\"0\",inplace=True)"
   ]
  },
  {
   "cell_type": "code",
   "execution_count": 59,
   "id": "23adf9d0",
   "metadata": {},
   "outputs": [
    {
     "data": {
      "text/plain": [
       "0"
      ]
     },
     "execution_count": 59,
     "metadata": {},
     "output_type": "execute_result"
    }
   ],
   "source": [
    "Data.Rating.isnull().sum()"
   ]
  },
  {
   "cell_type": "code",
   "execution_count": 60,
   "id": "6f213d10",
   "metadata": {},
   "outputs": [],
   "source": [
    "Data=Data.drop([\"Name\",\"Genre\"],axis=1)"
   ]
  },
  {
   "cell_type": "code",
   "execution_count": 61,
   "id": "f06b330a",
   "metadata": {},
   "outputs": [
    {
     "data": {
      "text/plain": [
       "(16719, 12)"
      ]
     },
     "execution_count": 61,
     "metadata": {},
     "output_type": "execute_result"
    }
   ],
   "source": [
    "Data.shape"
   ]
  },
  {
   "cell_type": "markdown",
   "id": "933354f0",
   "metadata": {},
   "source": [
    "<h2 style=\"color:green\"> PERFORM DUMMY </h2>"
   ]
  },
  {
   "cell_type": "code",
   "execution_count": 62,
   "id": "064d0dd4",
   "metadata": {},
   "outputs": [],
   "source": [
    "dummy=pd.get_dummies(Data)"
   ]
  },
  {
   "cell_type": "code",
   "execution_count": 63,
   "id": "6ec38a5d",
   "metadata": {},
   "outputs": [
    {
     "data": {
      "text/plain": [
       "(16719, 2463)"
      ]
     },
     "execution_count": 63,
     "metadata": {},
     "output_type": "execute_result"
    }
   ],
   "source": [
    "dummy.shape"
   ]
  },
  {
   "cell_type": "code",
   "execution_count": 64,
   "id": "5e61d502",
   "metadata": {},
   "outputs": [
    {
     "name": "stdout",
     "output_type": "stream",
     "text": [
      "<class 'pandas.core.frame.DataFrame'>\n",
      "RangeIndex: 16719 entries, 0 to 16718\n",
      "Columns: 2463 entries, NA_Sales to Rating_T\n",
      "dtypes: float64(6), uint8(2457)\n",
      "memory usage: 39.9 MB\n"
     ]
    }
   ],
   "source": [
    "dummy.info()"
   ]
  },
  {
   "cell_type": "markdown",
   "id": "dc62ec05",
   "metadata": {},
   "source": [
    "<h2 style=\"color:green\"> PERFORM SCALER </h2>"
   ]
  },
  {
   "cell_type": "code",
   "execution_count": 65,
   "id": "0cb31193",
   "metadata": {},
   "outputs": [],
   "source": [
    "from sklearn.preprocessing import MinMaxScaler\n",
    "scaler = MinMaxScaler().fit(dummy)\n",
    "scaled_data=scaler.transform(dummy)"
   ]
  },
  {
   "cell_type": "code",
   "execution_count": 66,
   "id": "10d381e0",
   "metadata": {},
   "outputs": [
    {
     "data": {
      "text/html": [
       "<div>\n",
       "<style scoped>\n",
       "    .dataframe tbody tr th:only-of-type {\n",
       "        vertical-align: middle;\n",
       "    }\n",
       "\n",
       "    .dataframe tbody tr th {\n",
       "        vertical-align: top;\n",
       "    }\n",
       "\n",
       "    .dataframe thead th {\n",
       "        text-align: right;\n",
       "    }\n",
       "</style>\n",
       "<table border=\"1\" class=\"dataframe\">\n",
       "  <thead>\n",
       "    <tr style=\"text-align: right;\">\n",
       "      <th></th>\n",
       "      <th>0</th>\n",
       "      <th>1</th>\n",
       "      <th>2</th>\n",
       "      <th>3</th>\n",
       "      <th>4</th>\n",
       "      <th>5</th>\n",
       "      <th>6</th>\n",
       "      <th>7</th>\n",
       "      <th>8</th>\n",
       "      <th>9</th>\n",
       "      <th>...</th>\n",
       "      <th>2453</th>\n",
       "      <th>2454</th>\n",
       "      <th>2455</th>\n",
       "      <th>2456</th>\n",
       "      <th>2457</th>\n",
       "      <th>2458</th>\n",
       "      <th>2459</th>\n",
       "      <th>2460</th>\n",
       "      <th>2461</th>\n",
       "      <th>2462</th>\n",
       "    </tr>\n",
       "  </thead>\n",
       "  <tbody>\n",
       "    <tr>\n",
       "      <th>0</th>\n",
       "      <td>1.000000</td>\n",
       "      <td>1.000000</td>\n",
       "      <td>0.368885</td>\n",
       "      <td>0.741176</td>\n",
       "      <td>0.436364</td>\n",
       "      <td>0.029828</td>\n",
       "      <td>0.0</td>\n",
       "      <td>0.0</td>\n",
       "      <td>0.0</td>\n",
       "      <td>0.0</td>\n",
       "      <td>...</td>\n",
       "      <td>0.0</td>\n",
       "      <td>0.0</td>\n",
       "      <td>0.0</td>\n",
       "      <td>1.0</td>\n",
       "      <td>0.0</td>\n",
       "      <td>0.0</td>\n",
       "      <td>0.0</td>\n",
       "      <td>0.0</td>\n",
       "      <td>0.0</td>\n",
       "      <td>0.0</td>\n",
       "    </tr>\n",
       "    <tr>\n",
       "      <th>1</th>\n",
       "      <td>0.703095</td>\n",
       "      <td>0.123619</td>\n",
       "      <td>0.666341</td>\n",
       "      <td>0.658443</td>\n",
       "      <td>0.599706</td>\n",
       "      <td>0.014842</td>\n",
       "      <td>0.0</td>\n",
       "      <td>0.0</td>\n",
       "      <td>0.0</td>\n",
       "      <td>0.0</td>\n",
       "      <td>...</td>\n",
       "      <td>0.0</td>\n",
       "      <td>1.0</td>\n",
       "      <td>0.0</td>\n",
       "      <td>0.0</td>\n",
       "      <td>0.0</td>\n",
       "      <td>0.0</td>\n",
       "      <td>0.0</td>\n",
       "      <td>0.0</td>\n",
       "      <td>0.0</td>\n",
       "      <td>0.0</td>\n",
       "    </tr>\n",
       "    <tr>\n",
       "      <th>2</th>\n",
       "      <td>0.379110</td>\n",
       "      <td>0.440608</td>\n",
       "      <td>0.370841</td>\n",
       "      <td>0.811765</td>\n",
       "      <td>0.636364</td>\n",
       "      <td>0.066129</td>\n",
       "      <td>0.0</td>\n",
       "      <td>0.0</td>\n",
       "      <td>0.0</td>\n",
       "      <td>0.0</td>\n",
       "      <td>...</td>\n",
       "      <td>0.0</td>\n",
       "      <td>0.0</td>\n",
       "      <td>0.0</td>\n",
       "      <td>1.0</td>\n",
       "      <td>0.0</td>\n",
       "      <td>0.0</td>\n",
       "      <td>0.0</td>\n",
       "      <td>0.0</td>\n",
       "      <td>0.0</td>\n",
       "      <td>0.0</td>\n",
       "    </tr>\n",
       "    <tr>\n",
       "      <th>3</th>\n",
       "      <td>0.377418</td>\n",
       "      <td>0.377417</td>\n",
       "      <td>0.320939</td>\n",
       "      <td>0.788235</td>\n",
       "      <td>0.636364</td>\n",
       "      <td>0.017634</td>\n",
       "      <td>0.0</td>\n",
       "      <td>0.0</td>\n",
       "      <td>0.0</td>\n",
       "      <td>0.0</td>\n",
       "      <td>...</td>\n",
       "      <td>0.0</td>\n",
       "      <td>0.0</td>\n",
       "      <td>0.0</td>\n",
       "      <td>1.0</td>\n",
       "      <td>0.0</td>\n",
       "      <td>0.0</td>\n",
       "      <td>0.0</td>\n",
       "      <td>0.0</td>\n",
       "      <td>0.0</td>\n",
       "      <td>0.0</td>\n",
       "    </tr>\n",
       "    <tr>\n",
       "      <th>4</th>\n",
       "      <td>0.272485</td>\n",
       "      <td>0.306975</td>\n",
       "      <td>1.000000</td>\n",
       "      <td>0.658443</td>\n",
       "      <td>0.599706</td>\n",
       "      <td>0.014842</td>\n",
       "      <td>0.0</td>\n",
       "      <td>0.0</td>\n",
       "      <td>0.0</td>\n",
       "      <td>0.0</td>\n",
       "      <td>...</td>\n",
       "      <td>0.0</td>\n",
       "      <td>1.0</td>\n",
       "      <td>0.0</td>\n",
       "      <td>0.0</td>\n",
       "      <td>0.0</td>\n",
       "      <td>0.0</td>\n",
       "      <td>0.0</td>\n",
       "      <td>0.0</td>\n",
       "      <td>0.0</td>\n",
       "      <td>0.0</td>\n",
       "    </tr>\n",
       "  </tbody>\n",
       "</table>\n",
       "<p>5 rows × 2463 columns</p>\n",
       "</div>"
      ],
      "text/plain": [
       "       0         1         2         3         4         5     6     7     \\\n",
       "0  1.000000  1.000000  0.368885  0.741176  0.436364  0.029828   0.0   0.0   \n",
       "1  0.703095  0.123619  0.666341  0.658443  0.599706  0.014842   0.0   0.0   \n",
       "2  0.379110  0.440608  0.370841  0.811765  0.636364  0.066129   0.0   0.0   \n",
       "3  0.377418  0.377417  0.320939  0.788235  0.636364  0.017634   0.0   0.0   \n",
       "4  0.272485  0.306975  1.000000  0.658443  0.599706  0.014842   0.0   0.0   \n",
       "\n",
       "   8     9     ...  2453  2454  2455  2456  2457  2458  2459  2460  2461  2462  \n",
       "0   0.0   0.0  ...   0.0   0.0   0.0   1.0   0.0   0.0   0.0   0.0   0.0   0.0  \n",
       "1   0.0   0.0  ...   0.0   1.0   0.0   0.0   0.0   0.0   0.0   0.0   0.0   0.0  \n",
       "2   0.0   0.0  ...   0.0   0.0   0.0   1.0   0.0   0.0   0.0   0.0   0.0   0.0  \n",
       "3   0.0   0.0  ...   0.0   0.0   0.0   1.0   0.0   0.0   0.0   0.0   0.0   0.0  \n",
       "4   0.0   0.0  ...   0.0   1.0   0.0   0.0   0.0   0.0   0.0   0.0   0.0   0.0  \n",
       "\n",
       "[5 rows x 2463 columns]"
      ]
     },
     "execution_count": 66,
     "metadata": {},
     "output_type": "execute_result"
    }
   ],
   "source": [
    "x1= pd.DataFrame(scaled_data)\n",
    "x1.head()"
   ]
  },
  {
   "cell_type": "code",
   "execution_count": 67,
   "id": "0fa2f354",
   "metadata": {},
   "outputs": [
    {
     "data": {
      "text/plain": [
       "(16719, 2463)"
      ]
     },
     "execution_count": 67,
     "metadata": {},
     "output_type": "execute_result"
    }
   ],
   "source": [
    "x1.shape"
   ]
  },
  {
   "cell_type": "markdown",
   "id": "13e14b29",
   "metadata": {},
   "source": [
    "<h2 style=\"color:green\"> SEPARATE TRAIN & TEST </h2>"
   ]
  },
  {
   "cell_type": "code",
   "execution_count": 68,
   "id": "9c19610a",
   "metadata": {},
   "outputs": [],
   "source": [
    "x_tr=x1.iloc[:14576]\n",
    "x_te=x1.iloc[14576:]"
   ]
  },
  {
   "cell_type": "code",
   "execution_count": 69,
   "id": "f13c1fd1",
   "metadata": {},
   "outputs": [],
   "source": [
    "x_train,x_test,y_train,y_test= train_test_split(x_tr,y,train_size = 0.8, test_size = 0.2,random_state =50)"
   ]
  },
  {
   "cell_type": "markdown",
   "id": "d9e7edc2",
   "metadata": {},
   "source": [
    "<h2 style=\"color:green\"> PERFORM REGRESSION </h2>"
   ]
  },
  {
   "cell_type": "code",
   "execution_count": 70,
   "id": "80f57ac1",
   "metadata": {},
   "outputs": [
    {
     "name": "stdout",
     "output_type": "stream",
     "text": [
      "Train Score = 0.9941979904729864\n",
      "Test Score = -1.8212855866777341e+18\n"
     ]
    }
   ],
   "source": [
    "model=LinearRegression().fit(x_train,y_train)\n",
    "print(\"Train Score =\",model.score(x_train,y_train))\n",
    "print(\"Test Score =\",model.score(x_test,y_test))"
   ]
  },
  {
   "cell_type": "code",
   "execution_count": 71,
   "id": "36984c13",
   "metadata": {},
   "outputs": [],
   "source": [
    "predicts=model.predict(x_test)"
   ]
  },
  {
   "cell_type": "code",
   "execution_count": 72,
   "id": "34787d97",
   "metadata": {},
   "outputs": [
    {
     "data": {
      "text/plain": [
       "1677748185.9590137"
      ]
     },
     "execution_count": 72,
     "metadata": {},
     "output_type": "execute_result"
    }
   ],
   "source": [
    "mean_squared_error(y_test,predicts,squared=False)"
   ]
  },
  {
   "cell_type": "code",
   "execution_count": 73,
   "id": "e9740bf8",
   "metadata": {},
   "outputs": [
    {
     "name": "stdout",
     "output_type": "stream",
     "text": [
      "Train Score = 0.9999999833596269\n",
      "Test Score = 0.9446548026645574\n"
     ]
    }
   ],
   "source": [
    "model1=DecisionTreeRegressor().fit(x_train,y_train)\n",
    "print(\"Train Score =\",model1.score(x_train,y_train))\n",
    "print(\"Test Score =\",model1.score(x_test,y_test))\n",
    "predict_y=model1.predict(x_test)"
   ]
  },
  {
   "cell_type": "code",
   "execution_count": 74,
   "id": "65d7ef0a",
   "metadata": {},
   "outputs": [],
   "source": [
    "predicts=model1.predict(x_test)"
   ]
  },
  {
   "cell_type": "code",
   "execution_count": 75,
   "id": "95d10a59",
   "metadata": {},
   "outputs": [
    {
     "data": {
      "text/plain": [
       "0.29246757402300205"
      ]
     },
     "execution_count": 75,
     "metadata": {},
     "output_type": "execute_result"
    }
   ],
   "source": [
    "mean_squared_error(y_test,predicts,squared=False)"
   ]
  },
  {
   "cell_type": "code",
   "execution_count": 76,
   "id": "654b49dc",
   "metadata": {},
   "outputs": [
    {
     "data": {
      "text/plain": [
       "RandomForestRegressor(random_state=0)"
      ]
     },
     "execution_count": 76,
     "metadata": {},
     "output_type": "execute_result"
    }
   ],
   "source": [
    "model2=RandomForestRegressor(n_estimators = 100, random_state = 0)\n",
    "model2.fit(x_train, y_train)"
   ]
  },
  {
   "cell_type": "code",
   "execution_count": 77,
   "id": "46922379",
   "metadata": {},
   "outputs": [
    {
     "data": {
      "text/plain": [
       "0.9825578736576563"
      ]
     },
     "execution_count": 77,
     "metadata": {},
     "output_type": "execute_result"
    }
   ],
   "source": [
    "model2.score(x_train,y_train)"
   ]
  },
  {
   "cell_type": "code",
   "execution_count": 78,
   "id": "91870235",
   "metadata": {},
   "outputs": [
    {
     "data": {
      "text/plain": [
       "0.979658949889938"
      ]
     },
     "execution_count": 78,
     "metadata": {},
     "output_type": "execute_result"
    }
   ],
   "source": [
    "model2.score(x_test,y_test)"
   ]
  },
  {
   "cell_type": "code",
   "execution_count": 79,
   "id": "a07268e2",
   "metadata": {},
   "outputs": [],
   "source": [
    "predicts=model2.predict(x_test)"
   ]
  },
  {
   "cell_type": "code",
   "execution_count": 80,
   "id": "3afeca51",
   "metadata": {},
   "outputs": [
    {
     "data": {
      "text/plain": [
       "0.17730641035714756"
      ]
     },
     "execution_count": 80,
     "metadata": {},
     "output_type": "execute_result"
    }
   ],
   "source": [
    "mean_squared_error(y_test,predicts,squared=False)"
   ]
  },
  {
   "cell_type": "markdown",
   "id": "74f4885e",
   "metadata": {},
   "source": [
    "<h2 style=\"color:green\"> GRADIENTBOOSTING HAS THE BEST ACCURACY </h2>"
   ]
  },
  {
   "cell_type": "code",
   "execution_count": 81,
   "id": "092f845f",
   "metadata": {},
   "outputs": [
    {
     "data": {
      "text/plain": [
       "GradientBoostingRegressor(random_state=0)"
      ]
     },
     "execution_count": 81,
     "metadata": {},
     "output_type": "execute_result"
    }
   ],
   "source": [
    "model3=GradientBoostingRegressor(n_estimators = 100, random_state = 0)\n",
    "model3.fit(x_train, y_train)"
   ]
  },
  {
   "cell_type": "code",
   "execution_count": 82,
   "id": "e6db5281",
   "metadata": {},
   "outputs": [
    {
     "data": {
      "text/plain": [
       "0.997726078213354"
      ]
     },
     "execution_count": 82,
     "metadata": {},
     "output_type": "execute_result"
    }
   ],
   "source": [
    "model3.score(x_train,y_train)"
   ]
  },
  {
   "cell_type": "code",
   "execution_count": 83,
   "id": "9ee6b8a9",
   "metadata": {},
   "outputs": [
    {
     "data": {
      "text/plain": [
       "0.991515825352971"
      ]
     },
     "execution_count": 83,
     "metadata": {},
     "output_type": "execute_result"
    }
   ],
   "source": [
    "model3.score(x_test,y_test)"
   ]
  },
  {
   "cell_type": "code",
   "execution_count": 84,
   "id": "e53647a8",
   "metadata": {},
   "outputs": [],
   "source": [
    "predicts=model3.predict(x_test)"
   ]
  },
  {
   "cell_type": "code",
   "execution_count": 85,
   "id": "8786d863",
   "metadata": {},
   "outputs": [
    {
     "data": {
      "text/plain": [
       "0.1145097726799658"
      ]
     },
     "execution_count": 85,
     "metadata": {},
     "output_type": "execute_result"
    }
   ],
   "source": [
    "mean_squared_error(y_test,predicts,squared=False)"
   ]
  },
  {
   "cell_type": "code",
   "execution_count": 86,
   "id": "8383fe46",
   "metadata": {},
   "outputs": [],
   "source": [
    "result=model3.predict(x_te)"
   ]
  },
  {
   "cell_type": "code",
   "execution_count": 87,
   "id": "7187bb1e",
   "metadata": {},
   "outputs": [
    {
     "name": "stdout",
     "output_type": "stream",
     "text": [
      "[0.15674411 0.14440739 0.15674411 ... 0.09916852 0.05094457 0.07235524]\n"
     ]
    }
   ],
   "source": [
    "print(result)"
   ]
  },
  {
   "cell_type": "code",
   "execution_count": 88,
   "id": "cdedfff0",
   "metadata": {},
   "outputs": [
    {
     "data": {
      "text/plain": [
       "AdaBoostRegressor(n_estimators=100, random_state=0)"
      ]
     },
     "execution_count": 88,
     "metadata": {},
     "output_type": "execute_result"
    }
   ],
   "source": [
    "regress=AdaBoostRegressor(random_state=0, n_estimators=100)\n",
    "regress.fit(x_train, y_train)"
   ]
  },
  {
   "cell_type": "code",
   "execution_count": 89,
   "id": "6cd663f5",
   "metadata": {},
   "outputs": [
    {
     "data": {
      "text/plain": [
       "0.2842434456816806"
      ]
     },
     "execution_count": 89,
     "metadata": {},
     "output_type": "execute_result"
    }
   ],
   "source": [
    "regress.score(x_train,y_train)"
   ]
  },
  {
   "cell_type": "code",
   "execution_count": 90,
   "id": "8f81d5de",
   "metadata": {},
   "outputs": [
    {
     "data": {
      "text/plain": [
       "-0.4008142624501494"
      ]
     },
     "execution_count": 90,
     "metadata": {},
     "output_type": "execute_result"
    }
   ],
   "source": [
    "regress.score(x_test,y_test)"
   ]
  },
  {
   "cell_type": "code",
   "execution_count": 91,
   "id": "b427bcc0",
   "metadata": {},
   "outputs": [],
   "source": [
    "predicts=regress.predict(x_test)"
   ]
  },
  {
   "cell_type": "code",
   "execution_count": 92,
   "id": "1e33503f",
   "metadata": {},
   "outputs": [
    {
     "data": {
      "text/plain": [
       "1.4713907788817202"
      ]
     },
     "execution_count": 92,
     "metadata": {},
     "output_type": "execute_result"
    }
   ],
   "source": [
    "mean_squared_error(y_test,predicts,squared=False)"
   ]
  },
  {
   "cell_type": "code",
   "execution_count": 93,
   "id": "1adb5bab",
   "metadata": {},
   "outputs": [],
   "source": [
    "ans=pd.DataFrame(result)"
   ]
  },
  {
   "cell_type": "code",
   "execution_count": 104,
   "id": "3ba0821a",
   "metadata": {},
   "outputs": [],
   "source": [
    "actresult=pd.concat([bigTe.Name,ans],axis=1)\n",
    "actresult.rename(columns={0:'Global sales'},inplace=True)"
   ]
  },
  {
   "cell_type": "code",
   "execution_count": 105,
   "id": "36e81cac",
   "metadata": {},
   "outputs": [
    {
     "name": "stdout",
     "output_type": "stream",
     "text": [
      "<class 'pandas.core.frame.DataFrame'>\n",
      "RangeIndex: 2143 entries, 0 to 2142\n",
      "Data columns (total 2 columns):\n",
      " #   Column        Non-Null Count  Dtype  \n",
      "---  ------        --------------  -----  \n",
      " 0   Name          2143 non-null   object \n",
      " 1   Global sales  2143 non-null   float64\n",
      "dtypes: float64(1), object(1)\n",
      "memory usage: 33.6+ KB\n"
     ]
    }
   ],
   "source": [
    "actresult.info()"
   ]
  },
  {
   "cell_type": "markdown",
   "id": "d26aa957",
   "metadata": {},
   "source": [
    "<h2 style=\"color:green\"> TO CONVERT CSV FILE </h2>"
   ]
  },
  {
   "cell_type": "code",
   "execution_count": 106,
   "id": "9fd64060",
   "metadata": {},
   "outputs": [],
   "source": [
    "actresult.to_csv('Desktop/2022-Hackathon.csv',index=True)"
   ]
  }
 ],
 "metadata": {
  "kernelspec": {
   "display_name": "Python 3 (ipykernel)",
   "language": "python",
   "name": "python3"
  },
  "language_info": {
   "codemirror_mode": {
    "name": "ipython",
    "version": 3
   },
   "file_extension": ".py",
   "mimetype": "text/x-python",
   "name": "python",
   "nbconvert_exporter": "python",
   "pygments_lexer": "ipython3",
   "version": "3.9.7"
  }
 },
 "nbformat": 4,
 "nbformat_minor": 5
}
